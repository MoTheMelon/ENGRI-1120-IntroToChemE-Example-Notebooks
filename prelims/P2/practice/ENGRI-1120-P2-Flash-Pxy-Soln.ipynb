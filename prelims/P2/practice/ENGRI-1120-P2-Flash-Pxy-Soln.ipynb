{
 "cells": [
  {
   "cell_type": "markdown",
   "id": "f0e1825d-3701-4d13-9080-412587545f6f",
   "metadata": {},
   "source": [
    "## ENGRI 1120 Pxy Flash Problem Solution"
   ]
  },
  {
   "cell_type": "markdown",
   "id": "7cb07eb0-9f60-4e33-be7c-71350eee4eed",
   "metadata": {},
   "source": [
    "<img src=\"./latex/figs/VLE-Ideal-Pxy-P2-F19.pdf\" style=\"width:50%\">"
   ]
  },
  {
   "cell_type": "markdown",
   "id": "52cf8698-695a-4650-8fa1-eb76881caecc",
   "metadata": {},
   "source": [
    "Cornell Inc. was hired to design a flash separation process for a binary ($\\mathcal{M}$ = 2) mixture of CHF$_{\\mathrm{3}}$(1)/C$_{\\mathrm{2}}$F$_{\\mathrm{6}}$(2). The engineering team performed initial design calculations using Raoult's law for z$_{1}$ = 0.42. Let the saturation pressure of component $i$ be described by the Antoine equation:\n",
    "\n",
    "$$\n",
    "\\begin{equation}\n",
    "  \\log_{10}\\left(P_{i}^{sat}~[\\mathrm{bar}]\\right) = A - \\frac{B}{C+T[K]}\n",
    "\\end{equation}\n",
    "$$\n",
    "\n",
    "where the Antoine parameters are given in the problem.\n",
    "\n",
    "__Assumptions__: (i) the Flash drum operates at steady-state;\n",
    "(ii) vapor-liquid equilibrium occurs everywhere inside the drum at some (T,P);\n",
    "(iii) treat both the vapor and liquid phases as ideal;\n",
    "(iv) the Flash drum is well-mixed;\n",
    "(v) a single liquid feed (stream 1) enters, and a vapor (stream 2) and liquid (stream 3) exit the drum;\n",
    "(vi) R = 8.314$\\times$10$^{-2}$ L bar K$^{-1}$ mol$^{-1}$.\n",
    "\n",
    "\n",
    "* a) What temperature T (K) is the Flash drum operating at? (place your estimated T in the state Table.\n",
    "* b) Graphically  estimate the mising values in the state table assuming the Flash drum operates at P = 10.5 bar with a input feed rate of $\\dot{F}$ = 10 mol/t and $z_{1}$ = 0.42.\n",
    "* c) Analytically check the graphical estimates of $\\dot{L}$ and $\\dot{V}$ using the pressure summation expression. If this expression is _significantly_ different than 1 (greater than $\\pm$ 10\\% difference), please re-estimate your values (show your work)."
   ]
  },
  {
   "cell_type": "markdown",
   "id": "52b0c1a0-cee5-497a-9892-dbcea3afa87a",
   "metadata": {},
   "source": [
    "### Solution"
   ]
  },
  {
   "cell_type": "code",
   "execution_count": 1,
   "id": "9199d519-5fb1-4ddf-9c66-4c4dcda7390a",
   "metadata": {},
   "outputs": [
    {
     "name": "stderr",
     "output_type": "stream",
     "text": [
      "\u001b[32m\u001b[1m  Activating\u001b[22m\u001b[39m project at `C:\\Users\\ortiz\\Documents\\GitHub\\ENGRI-1120-IntroToChemE-Example-Notebooks\\prelims\\P2\\practice`\n",
      "\u001b[32m\u001b[1m    Updating\u001b[22m\u001b[39m `C:\\Users\\ortiz\\Documents\\GitHub\\ENGRI-1120-IntroToChemE-Example-Notebooks\\prelims\\P2\\practice\\Project.toml`\n",
      " \u001b[90m [336ed68f] \u001b[39m\u001b[92m+ CSV v0.10.4\u001b[39m\n",
      " \u001b[90m [a93c6f00] \u001b[39m\u001b[92m+ DataFrames v1.3.6\u001b[39m\n",
      "\u001b[32m\u001b[1m    Updating\u001b[22m\u001b[39m `C:\\Users\\ortiz\\Documents\\GitHub\\ENGRI-1120-IntroToChemE-Example-Notebooks\\prelims\\P2\\practice\\Manifest.toml`\n",
      " \u001b[90m [336ed68f] \u001b[39m\u001b[92m+ CSV v0.10.4\u001b[39m\n",
      " \u001b[90m [944b1d66] \u001b[39m\u001b[92m+ CodecZlib v0.7.0\u001b[39m\n",
      " \u001b[90m [34da2185] \u001b[39m\u001b[92m+ Compat v4.2.0\u001b[39m\n",
      " \u001b[90m [a8cc5b0e] \u001b[39m\u001b[92m+ Crayons v4.1.1\u001b[39m\n",
      " \u001b[90m [9a962f9c] \u001b[39m\u001b[92m+ DataAPI v1.11.0\u001b[39m\n",
      " \u001b[90m [a93c6f00] \u001b[39m\u001b[92m+ DataFrames v1.3.6\u001b[39m\n",
      " \u001b[90m [864edb3b] \u001b[39m\u001b[92m+ DataStructures v0.18.13\u001b[39m\n",
      " \u001b[90m [e2d170a0] \u001b[39m\u001b[92m+ DataValueInterfaces v1.0.0\u001b[39m\n",
      " \u001b[90m [48062228] \u001b[39m\u001b[92m+ FilePathsBase v0.9.20\u001b[39m\n",
      " \u001b[90m [59287772] \u001b[39m\u001b[92m+ Formatting v0.4.2\u001b[39m\n",
      " \u001b[90m [842dd82b] \u001b[39m\u001b[92m+ InlineStrings v1.1.4\u001b[39m\n",
      " \u001b[90m [41ab1584] \u001b[39m\u001b[92m+ InvertedIndices v1.1.0\u001b[39m\n",
      " \u001b[90m [82899510] \u001b[39m\u001b[92m+ IteratorInterfaceExtensions v1.0.0\u001b[39m\n",
      " \u001b[90m [e1d29d7a] \u001b[39m\u001b[92m+ Missings v1.0.2\u001b[39m\n",
      " \u001b[90m [bac558e1] \u001b[39m\u001b[92m+ OrderedCollections v1.4.1\u001b[39m\n",
      " \u001b[90m [69de0a69] \u001b[39m\u001b[92m+ Parsers v2.4.0\u001b[39m\n",
      " \u001b[90m [2dfb63ee] \u001b[39m\u001b[92m+ PooledArrays v1.4.2\u001b[39m\n",
      "\u001b[33m⌅\u001b[39m\u001b[90m [08abe8d2] \u001b[39m\u001b[92m+ PrettyTables v1.3.1\u001b[39m\n",
      " \u001b[90m [189a3867] \u001b[39m\u001b[92m+ Reexport v1.2.2\u001b[39m\n",
      " \u001b[90m [91c51154] \u001b[39m\u001b[92m+ SentinelArrays v1.3.15\u001b[39m\n",
      " \u001b[90m [a2af1166] \u001b[39m\u001b[92m+ SortingAlgorithms v1.0.1\u001b[39m\n",
      " \u001b[90m [3783bdb8] \u001b[39m\u001b[92m+ TableTraits v1.0.1\u001b[39m\n",
      " \u001b[90m [bd369af6] \u001b[39m\u001b[92m+ Tables v1.9.0\u001b[39m\n",
      " \u001b[90m [3bb67fe8] \u001b[39m\u001b[92m+ TranscodingStreams v0.9.9\u001b[39m\n",
      " \u001b[90m [ea10d353] \u001b[39m\u001b[92m+ WeakRefStrings v1.4.2\u001b[39m\n",
      " \u001b[90m [56f22d72] \u001b[39m\u001b[92m+ Artifacts\u001b[39m\n",
      " \u001b[90m [2a0f44e3] \u001b[39m\u001b[92m+ Base64\u001b[39m\n",
      " \u001b[90m [ade2ca70] \u001b[39m\u001b[92m+ Dates\u001b[39m\n",
      " \u001b[90m [9fa8497b] \u001b[39m\u001b[92m+ Future\u001b[39m\n",
      " \u001b[90m [b77e0a4c] \u001b[39m\u001b[92m+ InteractiveUtils\u001b[39m\n",
      " \u001b[90m [8f399da3] \u001b[39m\u001b[92m+ Libdl\u001b[39m\n",
      " \u001b[90m [37e2e46d] \u001b[39m\u001b[92m+ LinearAlgebra\u001b[39m\n",
      " \u001b[90m [56ddb016] \u001b[39m\u001b[92m+ Logging\u001b[39m\n",
      " \u001b[90m [d6f4376e] \u001b[39m\u001b[92m+ Markdown\u001b[39m\n",
      " \u001b[90m [a63ad114] \u001b[39m\u001b[92m+ Mmap\u001b[39m\n",
      " \u001b[90m [de0858da] \u001b[39m\u001b[92m+ Printf\u001b[39m\n",
      " \u001b[90m [3fa0cd96] \u001b[39m\u001b[92m+ REPL\u001b[39m\n",
      " \u001b[90m [9a3f8284] \u001b[39m\u001b[92m+ Random\u001b[39m\n",
      " \u001b[90m [ea8e919c] \u001b[39m\u001b[92m+ SHA v0.7.0\u001b[39m\n",
      " \u001b[90m [9e88b42a] \u001b[39m\u001b[92m+ Serialization\u001b[39m\n",
      " \u001b[90m [6462fe0b] \u001b[39m\u001b[92m+ Sockets\u001b[39m\n",
      " \u001b[90m [2f01184e] \u001b[39m\u001b[92m+ SparseArrays\u001b[39m\n",
      " \u001b[90m [10745b16] \u001b[39m\u001b[92m+ Statistics\u001b[39m\n",
      " \u001b[90m [8dfed614] \u001b[39m\u001b[92m+ Test\u001b[39m\n",
      " \u001b[90m [cf7118a7] \u001b[39m\u001b[92m+ UUIDs\u001b[39m\n",
      " \u001b[90m [4ec0a83e] \u001b[39m\u001b[92m+ Unicode\u001b[39m\n",
      " \u001b[90m [e66e0078] \u001b[39m\u001b[92m+ CompilerSupportLibraries_jll v0.5.2+0\u001b[39m\n",
      " \u001b[90m [4536629a] \u001b[39m\u001b[92m+ OpenBLAS_jll v0.3.20+0\u001b[39m\n",
      " \u001b[90m [83775a58] \u001b[39m\u001b[92m+ Zlib_jll v1.2.12+3\u001b[39m\n",
      " \u001b[90m [8e850b90] \u001b[39m\u001b[92m+ libblastrampoline_jll v5.1.1+0\u001b[39m\n",
      "\u001b[36m\u001b[1m        Info\u001b[22m\u001b[39m Packages marked with \u001b[33m⌅\u001b[39m have new versions available but cannot be upgraded. To see why use `status --outdated -m`\n"
     ]
    }
   ],
   "source": [
    "import Pkg; Pkg.activate(\".\"); Pkg.resolve(); Pkg.instantiate();"
   ]
  },
  {
   "cell_type": "code",
   "execution_count": 2,
   "id": "7273139b-f860-46b3-93b2-977cfb6beb3b",
   "metadata": {},
   "outputs": [],
   "source": [
    "using LinearAlgebra"
   ]
  },
  {
   "cell_type": "markdown",
   "id": "1f4e2f2d-db13-4bb6-acda-0e984c98b2c1",
   "metadata": {},
   "source": [
    "### a) Estimate the Temperature\n",
    "\n",
    "#### Strategy\n",
    "We can re-arrange Antoine's equation for the temperature $T$:\n",
    "\n",
    "$$T = \\frac{B}{A - X} - C$$\n",
    "\n",
    "where $X = \\log_{10}P_{1}^{sat}$. However, we have a pure system, say all component 1, then:\n",
    "\n",
    "$$P = P_{1}^{sat}$$.\n",
    "\n",
    "Thus, we can estimate $P_{1}^{sat}$ from the Pxy, and then solve for $T$."
   ]
  },
  {
   "cell_type": "code",
   "execution_count": 3,
   "id": "2d28ae41-36c3-41be-ad10-b9ae8a111f90",
   "metadata": {},
   "outputs": [
    {
     "data": {
      "text/plain": [
       "15.95"
      ]
     },
     "execution_count": 3,
     "metadata": {},
     "output_type": "execute_result"
    }
   ],
   "source": [
    "# Use the pressure at the x₁ = 1 end-point to estimate the P_1 -\n",
    "P1_sat = 15.95 # units: bar"
   ]
  },
  {
   "cell_type": "code",
   "execution_count": 4,
   "id": "4355fe6d-2a8a-4320-8e2b-04ad90d1cc05",
   "metadata": {},
   "outputs": [
    {
     "name": "stdout",
     "output_type": "stream",
     "text": [
      "The temperature is approx T = 243.15169325682612 K\n"
     ]
    }
   ],
   "source": [
    "# look parameters from the problem -\n",
    "A₁ = 4.45\n",
    "B₁ = 718.1\n",
    "C₁ = -22.01\n",
    "\n",
    "# Estimate T -\n",
    "X = log10(P1_sat);\n",
    "T = (B₁)/(A₁ - X) - C₁\n",
    "\n",
    "# print -\n",
    "println(\"The temperature is approx T = $(T) K\")"
   ]
  },
  {
   "cell_type": "code",
   "execution_count": 12,
   "id": "073d92a4-7a63-4c27-a998-399f323a9e59",
   "metadata": {},
   "outputs": [
    {
     "data": {
      "text/plain": [
       "15.949999999999994"
      ]
     },
     "execution_count": 12,
     "metadata": {},
     "output_type": "execute_result"
    }
   ],
   "source": [
    "# check:\n",
    "F = (A₁ - (B₁)/(C₁ + T))\n",
    "10^F"
   ]
  },
  {
   "cell_type": "markdown",
   "id": "ee65547d-52be-4a2b-adea-8648195c3342",
   "metadata": {},
   "source": [
    "### b) Estimate the composition from the Pxy diagram"
   ]
  },
  {
   "cell_type": "code",
   "execution_count": 47,
   "id": "53e670b3-3b69-499e-bb7a-9fbe287c8367",
   "metadata": {},
   "outputs": [],
   "source": [
    "# from the fig -\n",
    "x₁ = 0.33;\n",
    "y₁ = 0.52;\n",
    "z₁ = 0.42;\n",
    "z₂ = 1 - z₁;"
   ]
  },
  {
   "cell_type": "code",
   "execution_count": 17,
   "id": "b056ecd4-e622-4fff-ad71-a775a97c447d",
   "metadata": {},
   "outputs": [],
   "source": [
    "### Lever rule -\n",
    "# Fill me in"
   ]
  },
  {
   "cell_type": "code",
   "execution_count": 48,
   "id": "a46933da-08aa-47c7-a93b-e988040e372e",
   "metadata": {},
   "outputs": [
    {
     "data": {
      "text/plain": [
       "2-element Vector{Float64}:\n",
       " 0.5263157894736841\n",
       " 0.4736842105263157"
      ]
     },
     "execution_count": 48,
     "metadata": {},
     "output_type": "execute_result"
    }
   ],
   "source": [
    "### check: Linear algebra soln - \n",
    "A = [\n",
    "    x₁ y₁ ;\n",
    "    1 1;\n",
    "];\n",
    "\n",
    "b = [\n",
    "    z₁ ;\n",
    "    1 ;\n",
    "];\n",
    "\n",
    "# Estimate -\n",
    "x = inv(A)*b"
   ]
  },
  {
   "cell_type": "markdown",
   "id": "8e99ffe6-4f19-4bf5-8186-a856a9919ab0",
   "metadata": {},
   "source": [
    "### c) Pressure summation check:"
   ]
  },
  {
   "cell_type": "code",
   "execution_count": 5,
   "id": "a1c70cc0-2da2-4be9-8928-77f076f15237",
   "metadata": {},
   "outputs": [
    {
     "ename": "LoadError",
     "evalue": "UndefVarError: x not defined",
     "output_type": "error",
     "traceback": [
      "UndefVarError: x not defined",
      "",
      "Stacktrace:",
      " [1] top-level scope",
      "   @ In[5]:5",
      " [2] eval",
      "   @ .\\boot.jl:368 [inlined]",
      " [3] include_string(mapexpr::typeof(REPL.softscope), mod::Module, code::String, filename::String)",
      "   @ Base .\\loading.jl:1428"
     ]
    }
   ],
   "source": [
    "# Set some values -\n",
    "P₁_sat = 15.95; # units: bar\n",
    "P₂_sat = 7.75; # units: bar\n",
    "P = 10.5; # units: bar\n",
    "L̂ = x[1];\n",
    "V̂ = x[2];\n",
    "P = 10.5;\n",
    "\n",
    "# compute the terms -\n",
    "term_1 = (P₁_sat/P)*(V̂)+L̂;\n",
    "term_2 = (P₂_sat/P)*(V̂)+L̂;\n",
    "\n",
    "# summation\n",
    "check = (z₁)/(term_1) + z₂/(term_2);\n",
    "\n",
    "# print -\n",
    "println(\"Check: $(check)\")"
   ]
  },
  {
   "cell_type": "code",
   "execution_count": null,
   "id": "84bc4f4e-97bf-4d64-9d39-f3ef2d836523",
   "metadata": {},
   "outputs": [],
   "source": []
  }
 ],
 "metadata": {
  "kernelspec": {
   "display_name": "Julia 1.8.0",
   "language": "julia",
   "name": "julia-1.8"
  },
  "language_info": {
   "file_extension": ".jl",
   "mimetype": "application/julia",
   "name": "julia",
   "version": "1.8.0"
  }
 },
 "nbformat": 4,
 "nbformat_minor": 5
}
