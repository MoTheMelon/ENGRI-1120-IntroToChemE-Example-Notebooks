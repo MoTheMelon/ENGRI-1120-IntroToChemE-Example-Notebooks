{
 "cells": [
  {
   "cell_type": "markdown",
   "id": "0522cfbd-0a79-40b9-9715-f6ee89962f37",
   "metadata": {},
   "source": [
    "# ENGRI 1120 Lab 9: Computation of an Equilibrium Constant"
   ]
  },
  {
   "cell_type": "markdown",
   "id": "719caa4c-c199-40d0-a08b-3dd1af33c6cd",
   "metadata": {},
   "source": [
    "### Introduction\n",
    "One potential strategy to generate clean hydrogen gas $H_{2}(g)$ for use in applications such as transportation is to directly decompose ammonia NH$_{3}(g)$ in the gas phase reaction:\n",
    "\n",
    "$$2NH_{3}(g)~{\\rightleftharpoons}~N_{2}(g)+3H_{2}(g)$$\n",
    "\n",
    "Let's explore the equilibrium behavior of this reaction in a constant volume well-mixed _batch_ reactor (no input or output streams) with $V$ = 100 L operating at T = 900$^{\\circ}$C and an unknown pressure (measured in units of MPa). \n",
    "\n",
    "Initially, there are 100 mol of NH$_{3}(g)$ and no products in the reactor. The teaching team measured the equilibrium extent of reaction $\\epsilon_{1}^{\\star}$ = 34.14 mol.\n",
    "\n",
    "__Assumptions__\n",
    "* The gas phase can be treated as ideal\n",
    "* The ideal gas law can be used to describe the conditions in the reactor\n",
    "* The reference pressure is $P^{\\circ}$ = 100 MPa\n",
    "* R = 0.008314 L MPa mol$^{-1}$ K$^{-1}$ and R = 0.008314 kJ mol$^{-1}$ K$^{-1}$ "
   ]
  },
  {
   "cell_type": "markdown",
   "id": "0cc14203-0a58-4bbb-b82c-dbb821321d96",
   "metadata": {},
   "source": [
    "### Lab setup"
   ]
  },
  {
   "cell_type": "code",
   "execution_count": 1,
   "id": "d99ea894-cbdc-431d-8dd9-a60968b0183e",
   "metadata": {},
   "outputs": [
    {
     "name": "stderr",
     "output_type": "stream",
     "text": [
      "\u001b[32m\u001b[1m  Activating\u001b[22m\u001b[39m project at `C:\\Users\\ortiz\\Documents\\GitHub\\ENGRI-1120-IntroToChemE-Example-Notebooks\\labs\\lab-9-fun-w-equilibrium`\n",
      "\u001b[32m\u001b[1m    Updating\u001b[22m\u001b[39m `C:\\Users\\ortiz\\Documents\\GitHub\\ENGRI-1120-IntroToChemE-Example-Notebooks\\labs\\lab-9-fun-w-equilibrium\\Project.toml`\n",
      " \u001b[90m [08abe8d2] \u001b[39m\u001b[92m+ PrettyTables v2.1.1\u001b[39m\n",
      "\u001b[32m\u001b[1m    Updating\u001b[22m\u001b[39m `C:\\Users\\ortiz\\Documents\\GitHub\\ENGRI-1120-IntroToChemE-Example-Notebooks\\labs\\lab-9-fun-w-equilibrium\\Manifest.toml`\n",
      " \u001b[90m [a8cc5b0e] \u001b[39m\u001b[92m+ Crayons v4.1.1\u001b[39m\n",
      " \u001b[90m [9a962f9c] \u001b[39m\u001b[92m+ DataAPI v1.11.0\u001b[39m\n",
      " \u001b[90m [e2d170a0] \u001b[39m\u001b[92m+ DataValueInterfaces v1.0.0\u001b[39m\n",
      " \u001b[90m [59287772] \u001b[39m\u001b[92m+ Formatting v0.4.2\u001b[39m\n",
      " \u001b[90m [82899510] \u001b[39m\u001b[92m+ IteratorInterfaceExtensions v1.0.0\u001b[39m\n",
      " \u001b[90m [bac558e1] \u001b[39m\u001b[92m+ OrderedCollections v1.4.1\u001b[39m\n",
      " \u001b[90m [08abe8d2] \u001b[39m\u001b[92m+ PrettyTables v2.1.1\u001b[39m\n",
      " \u001b[90m [189a3867] \u001b[39m\u001b[92m+ Reexport v1.2.2\u001b[39m\n",
      " \u001b[90m [892a3eda] \u001b[39m\u001b[92m+ StringManipulation v0.3.0\u001b[39m\n",
      " \u001b[90m [3783bdb8] \u001b[39m\u001b[92m+ TableTraits v1.0.1\u001b[39m\n",
      " \u001b[90m [bd369af6] \u001b[39m\u001b[92m+ Tables v1.9.0\u001b[39m\n",
      " \u001b[90m [56f22d72] \u001b[39m\u001b[92m+ Artifacts\u001b[39m\n",
      " \u001b[90m [2a0f44e3] \u001b[39m\u001b[92m+ Base64\u001b[39m\n",
      " \u001b[90m [b77e0a4c] \u001b[39m\u001b[92m+ InteractiveUtils\u001b[39m\n",
      " \u001b[90m [8f399da3] \u001b[39m\u001b[92m+ Libdl\u001b[39m\n",
      " \u001b[90m [37e2e46d] \u001b[39m\u001b[92m+ LinearAlgebra\u001b[39m\n",
      " \u001b[90m [56ddb016] \u001b[39m\u001b[92m+ Logging\u001b[39m\n",
      " \u001b[90m [d6f4376e] \u001b[39m\u001b[92m+ Markdown\u001b[39m\n",
      " \u001b[90m [de0858da] \u001b[39m\u001b[92m+ Printf\u001b[39m\n",
      " \u001b[90m [9a3f8284] \u001b[39m\u001b[92m+ Random\u001b[39m\n",
      " \u001b[90m [ea8e919c] \u001b[39m\u001b[92m+ SHA v0.7.0\u001b[39m\n",
      " \u001b[90m [9e88b42a] \u001b[39m\u001b[92m+ Serialization\u001b[39m\n",
      " \u001b[90m [8dfed614] \u001b[39m\u001b[92m+ Test\u001b[39m\n",
      " \u001b[90m [4ec0a83e] \u001b[39m\u001b[92m+ Unicode\u001b[39m\n",
      " \u001b[90m [e66e0078] \u001b[39m\u001b[92m+ CompilerSupportLibraries_jll v0.5.2+0\u001b[39m\n",
      " \u001b[90m [4536629a] \u001b[39m\u001b[92m+ OpenBLAS_jll v0.3.20+0\u001b[39m\n",
      " \u001b[90m [8e850b90] \u001b[39m\u001b[92m+ libblastrampoline_jll v5.1.1+0\u001b[39m\n"
     ]
    }
   ],
   "source": [
    "import Pkg; Pkg.activate(\".\"); Pkg.resolve(); Pkg.instantiate();"
   ]
  },
  {
   "cell_type": "code",
   "execution_count": 2,
   "id": "00c10b12-90bf-4762-8928-2b9890b980a1",
   "metadata": {},
   "outputs": [],
   "source": [
    "# load req packages -\n",
    "using PrettyTables"
   ]
  },
  {
   "cell_type": "markdown",
   "id": "cbbb3d73-b492-42ee-a9f4-ec91555aee2f",
   "metadata": {},
   "source": [
    "### a) Compute the system state table\n",
    "To compute the missing values in the state table, use the equilibrium extent $\\epsilon_{1}^{\\star}$ and the mole balances to compute the number of mole of component $i$ at equilibrium:\n",
    "\n",
    "$$n_{i} = n_{i}^{\\circ}+\\sigma_{i1}\\epsilon_{1}^{\\star}\\qquad{i=1,2,\\dots,\\mathcal{M}}$$\n",
    "\n",
    "Then compute the mole fractions that are required to estimate $K$. "
   ]
  },
  {
   "cell_type": "code",
   "execution_count": 24,
   "id": "9f8f6a27-b698-4a83-ba8d-fadda3158ef4",
   "metadata": {},
   "outputs": [
    {
     "name": "stdout",
     "output_type": "stream",
     "text": [
      "┌─────────┬──────┬────────────┬──────────┬──────────┐\n",
      "│\u001b[1m Species \u001b[0m│\u001b[1m σ_i1 \u001b[0m│\u001b[1m nᵢ_initial \u001b[0m│\u001b[1m nᵢ_final \u001b[0m│\u001b[1m yᵢ_final \u001b[0m│\n",
      "│\u001b[90m         \u001b[0m│\u001b[90m      \u001b[0m│\u001b[90m        mol \u001b[0m│\u001b[90m      mol \u001b[0m│\u001b[90m          \u001b[0m│\n",
      "├─────────┼──────┼────────────┼──────────┼──────────┤\n",
      "│     NH₃ │   -2 │        100 │    31.72 │ 0.188495 │\n",
      "│      N₂ │    1 │          0 │    34.14 │ 0.202876 │\n",
      "│      H₂ │    3 │          0 │   102.42 │ 0.608628 │\n",
      "│   Total │    2 │        100 │   168.28 │      1.0 │\n",
      "└─────────┴──────┴────────────┴──────────┴──────────┘\n"
     ]
    }
   ],
   "source": [
    "# setup state table -\n",
    "number_of_species = 3;\n",
    "\n",
    "# header row -\n",
    "state_table_header_row = ([\"Species\",\"σ_i1\",\"nᵢ_initial\",\"nᵢ_final\",\"yᵢ_final\"],[\"\",\"\",\"mol\", \"mol\", \"\"]);\n",
    "\n",
    "# setup state table data array =\n",
    "state_table_array = Array{Any,2}(undef, 4,5);\n",
    "\n",
    "𝜖1 = 34.14\n",
    "\n",
    "# species -\n",
    "# row 1\n",
    "state_table_array[1,1] = \"NH₃\"\n",
    "state_table_array[1,2] = -2\n",
    "state_table_array[1,3] = 100\n",
    "state_table_array[1,4] = 100 + -2*𝜖1\n",
    "\n",
    "\n",
    "# row 2 -\n",
    "state_table_array[2,1] = \"N₂\"\n",
    "state_table_array[2,2] = 1\n",
    "state_table_array[2,3] = 0\n",
    "state_table_array[2,4] = 0 + 1*𝜖1\n",
    "\n",
    "# row 3 -\n",
    "state_table_array[3,1] = \"H₂\"\n",
    "state_table_array[3,2] = 3\n",
    "state_table_array[3,3] = 0\n",
    "state_table_array[3,4] = 0 + 3*𝜖1\n",
    "\n",
    "# row 4 -\n",
    "state_table_array[4,1] = \"Total\"\n",
    "state_table_array[4,2] = -2+1+3\n",
    "state_table_array[4,3] = 100\n",
    "state_table_array[4,4] = state_table_array[1,4]+state_table_array[2,4]+state_table_array[3,4]\n",
    "\n",
    "state_table_array[1,5] = state_table_array[1,4]/state_table_array[4,4]\n",
    "state_table_array[2,5] = state_table_array[2,4]/state_table_array[4,4]\n",
    "state_table_array[3,5] = state_table_array[3,4]/state_table_array[4,4]\n",
    "state_table_array[4,5] = state_table_array[4,4]/state_table_array[4,4]\n",
    "\n",
    "\n",
    "\n",
    "# write the table -\n",
    "pretty_table(state_table_array; header=state_table_header_row)"
   ]
  },
  {
   "cell_type": "markdown",
   "id": "2f7a97bf-e501-4935-b42f-1e09205c8be0",
   "metadata": {},
   "source": [
    "### b) Compute the missing value for the pressure $P$ in the reactor (units: MPa)"
   ]
  },
  {
   "cell_type": "code",
   "execution_count": 26,
   "id": "9367394f-079a-4439-93d0-18577f00d464",
   "metadata": {},
   "outputs": [
    {
     "data": {
      "text/plain": [
       "16.413306081480002"
      ]
     },
     "execution_count": 26,
     "metadata": {},
     "output_type": "execute_result"
    }
   ],
   "source": [
    "# fill me in ...\n",
    "n = state_table_array[4,4]\n",
    "R = 0.008314 #L MPa mol K\n",
    "T = 900 + 273.15\n",
    "V = 100\n",
    "P = (n*R*T)/V"
   ]
  },
  {
   "cell_type": "markdown",
   "id": "d46183ab-73c0-49a7-9449-5e6b48ecc6b6",
   "metadata": {},
   "source": [
    "### c) Compute a value for the gas-phase ideal equilibrium constant using your composition and pressure values "
   ]
  },
  {
   "cell_type": "code",
   "execution_count": 32,
   "id": "e856d7f9-966e-425f-8304-aaa82f2d7bba",
   "metadata": {},
   "outputs": [
    {
     "data": {
      "text/plain": [
       "0.03467998699223577"
      ]
     },
     "execution_count": 32,
     "metadata": {},
     "output_type": "execute_result"
    }
   ],
   "source": [
    "# fill me in ...\n",
    "sigmaRxn = -2+1+3\n",
    "Pterm = (P/100)^2\n",
    "\n",
    "Prod = 0.188495^-2*0.202876*0.608628^3\n",
    "\n",
    "K = Prod*Pterm\n"
   ]
  },
  {
   "cell_type": "markdown",
   "id": "0148becf-ae04-4478-b20f-2b99af73029e",
   "metadata": {},
   "source": [
    "### d) Compute the $\\Delta{G}^{\\circ}$ of reaction using your state values for the decomposition of NH$_{3}$(g). Is this reaction energetically favorable (yes -or- no)?"
   ]
  },
  {
   "cell_type": "code",
   "execution_count": 6,
   "id": "83a61b11-344b-44ab-a813-8bd3d9c6a4b1",
   "metadata": {},
   "outputs": [],
   "source": [
    "# fill me in ...\n"
   ]
  },
  {
   "cell_type": "code",
   "execution_count": null,
   "id": "f108e87c-1fc7-4095-83c4-40cf21f24a1e",
   "metadata": {},
   "outputs": [],
   "source": []
  }
 ],
 "metadata": {
  "kernelspec": {
   "display_name": "Julia 1.8.0",
   "language": "julia",
   "name": "julia-1.8"
  },
  "language_info": {
   "file_extension": ".jl",
   "mimetype": "application/julia",
   "name": "julia",
   "version": "1.8.0"
  }
 },
 "nbformat": 4,
 "nbformat_minor": 5
}
