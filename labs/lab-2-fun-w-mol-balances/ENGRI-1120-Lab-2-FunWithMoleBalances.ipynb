{
 "cells": [
  {
   "cell_type": "markdown",
   "id": "30d08686-3bb8-40c7-afab-d1a3c8dc8d70",
   "metadata": {},
   "source": [
    "# ENGRI 1120 Discussion 2: Fun With Total and Species Mole Balances"
   ]
  },
  {
   "cell_type": "markdown",
   "id": "aed940af-7a03-472a-8087-324e145c5d1c",
   "metadata": {},
   "source": [
    "## Introduction\n",
    "\n",
    "The teaching team built a reactor in the basement of Olin Hall to produce H$_{2}(g)$ continuously by decomposing NH$_{3}(g)$ according to the reaction:\n",
    "\n",
    "$$2NH_{3}~{\\rightleftharpoons}~{N_{2}+3H_{2}}$$\n",
    "\n",
    "The reactor has a single feed stream, and a single outlet stream. The feed stream into the reactor (stream 1) consists of 32.0 mol/s of NH$_{3}$(g) and 0.1 mol/s of H$_{2}$O(g) (a contaminant that does not participate in the reaction).  There are no products in the feed stream. At the outlet (stream 2), the teaching team measured 47.24 mol/s of H$_{2}$ leaving the reactor.\n",
    "\n",
    "__Assumptions__\n",
    "* The gas phase is ideal\n",
    "* The reactor operates at steady-state\n",
    "* The reactor has a constant T, P and V\n",
    "\n",
    "__Compute__\n",
    "* Compute the open extent of reaction $\\dot{\\epsilon}_{1}$ for the decomposition reaction\n",
    "* Compute the missing values in the state table.\n",
    "* Compute the fractional conversion of NH$_{3}$(g)."
   ]
  },
  {
   "cell_type": "code",
   "execution_count": 1,
   "id": "fa08d3f3-9616-4351-9bbf-642bd9c29392",
   "metadata": {},
   "outputs": [
    {
     "name": "stderr",
     "output_type": "stream",
     "text": [
      "\u001b[32m\u001b[1m  Activating\u001b[22m\u001b[39m project at `C:\\Users\\ortiz\\Documents\\GitHub\\ENGRI-1120-IntroToChemE-Example-Notebooks\\labs\\lab-2-fun-w-mol-balances`\n",
      "\u001b[32m\u001b[1m    Updating\u001b[22m\u001b[39m `C:\\Users\\ortiz\\Documents\\GitHub\\ENGRI-1120-IntroToChemE-Example-Notebooks\\labs\\lab-2-fun-w-mol-balances\\Project.toml`\n",
      " \u001b[90m [08abe8d2] \u001b[39m\u001b[92m+ PrettyTables v2.1.1\u001b[39m\n",
      "\u001b[32m\u001b[1m    Updating\u001b[22m\u001b[39m `C:\\Users\\ortiz\\Documents\\GitHub\\ENGRI-1120-IntroToChemE-Example-Notebooks\\labs\\lab-2-fun-w-mol-balances\\Manifest.toml`\n",
      " \u001b[90m [a8cc5b0e] \u001b[39m\u001b[92m+ Crayons v4.1.1\u001b[39m\n",
      " \u001b[90m [9a962f9c] \u001b[39m\u001b[92m+ DataAPI v1.11.0\u001b[39m\n",
      " \u001b[90m [e2d170a0] \u001b[39m\u001b[92m+ DataValueInterfaces v1.0.0\u001b[39m\n",
      " \u001b[90m [59287772] \u001b[39m\u001b[92m+ Formatting v0.4.2\u001b[39m\n",
      " \u001b[90m [82899510] \u001b[39m\u001b[92m+ IteratorInterfaceExtensions v1.0.0\u001b[39m\n",
      " \u001b[90m [bac558e1] \u001b[39m\u001b[92m+ OrderedCollections v1.4.1\u001b[39m\n",
      " \u001b[90m [08abe8d2] \u001b[39m\u001b[92m+ PrettyTables v2.1.1\u001b[39m\n",
      " \u001b[90m [189a3867] \u001b[39m\u001b[92m+ Reexport v1.2.2\u001b[39m\n",
      " \u001b[90m [892a3eda] \u001b[39m\u001b[92m+ StringManipulation v0.3.0\u001b[39m\n",
      " \u001b[90m [3783bdb8] \u001b[39m\u001b[92m+ TableTraits v1.0.1\u001b[39m\n",
      " \u001b[90m [bd369af6] \u001b[39m\u001b[92m+ Tables v1.9.0\u001b[39m\n",
      " \u001b[90m [56f22d72] \u001b[39m\u001b[92m+ Artifacts\u001b[39m\n",
      " \u001b[90m [2a0f44e3] \u001b[39m\u001b[92m+ Base64\u001b[39m\n",
      " \u001b[90m [b77e0a4c] \u001b[39m\u001b[92m+ InteractiveUtils\u001b[39m\n",
      " \u001b[90m [8f399da3] \u001b[39m\u001b[92m+ Libdl\u001b[39m\n",
      " \u001b[90m [37e2e46d] \u001b[39m\u001b[92m+ LinearAlgebra\u001b[39m\n",
      " \u001b[90m [56ddb016] \u001b[39m\u001b[92m+ Logging\u001b[39m\n",
      " \u001b[90m [d6f4376e] \u001b[39m\u001b[92m+ Markdown\u001b[39m\n",
      " \u001b[90m [de0858da] \u001b[39m\u001b[92m+ Printf\u001b[39m\n",
      " \u001b[90m [9a3f8284] \u001b[39m\u001b[92m+ Random\u001b[39m\n",
      " \u001b[90m [ea8e919c] \u001b[39m\u001b[92m+ SHA v0.7.0\u001b[39m\n",
      " \u001b[90m [9e88b42a] \u001b[39m\u001b[92m+ Serialization\u001b[39m\n",
      " \u001b[90m [8dfed614] \u001b[39m\u001b[92m+ Test\u001b[39m\n",
      " \u001b[90m [4ec0a83e] \u001b[39m\u001b[92m+ Unicode\u001b[39m\n",
      " \u001b[90m [e66e0078] \u001b[39m\u001b[92m+ CompilerSupportLibraries_jll v0.5.2+0\u001b[39m\n",
      " \u001b[90m [4536629a] \u001b[39m\u001b[92m+ OpenBLAS_jll v0.3.20+0\u001b[39m\n",
      " \u001b[90m [8e850b90] \u001b[39m\u001b[92m+ libblastrampoline_jll v5.1.1+0\u001b[39m\n"
     ]
    }
   ],
   "source": [
    "import Pkg; Pkg.activate(\".\"); Pkg.resolve(); Pkg.instantiate();"
   ]
  },
  {
   "cell_type": "code",
   "execution_count": 2,
   "id": "bd8fbe91-588e-405c-9469-5fdcac1db420",
   "metadata": {},
   "outputs": [],
   "source": [
    "using PrettyTables"
   ]
  },
  {
   "cell_type": "markdown",
   "id": "04a4d70d-8f54-4342-bbbc-5090b5dc80e2",
   "metadata": {
    "tags": []
   },
   "source": [
    "#### a) Compute the open extent of reaction $\\dot{\\epsilon}_{1}$ (units: mol/s) for NH$_{3}$(g) decomposition.\n",
    "To compute the open extent of reaction $\\dot{\\epsilon}_{1}$, start by writing down the species mole balances for NH$_{3}$ (1), \n",
    "N$_{2}$ (2), H$_{2}$ (3) and H$_{2}$O (4) at steady-state. Then, substitute what you know from the problem statement. A magical path to $\\dot{\\epsilon}_{1}$ will then appear."
   ]
  },
  {
   "cell_type": "code",
   "execution_count": null,
   "id": "ecf6920b-c870-41c5-a11a-767760a1f1c1",
   "metadata": {},
   "outputs": [],
   "source": [
    "# fill me in."
   ]
  },
  {
   "cell_type": "markdown",
   "id": "63e123d1-1660-42f4-9746-b6f504c61d67",
   "metadata": {},
   "source": [
    "#### b) Complete a state table for the open NH$_{3}$ problem"
   ]
  },
  {
   "cell_type": "code",
   "execution_count": 5,
   "id": "0e371d2f-dcfc-4863-a018-e581c13192a3",
   "metadata": {},
   "outputs": [
    {
     "name": "stdout",
     "output_type": "stream",
     "text": [
      "┌─────────┬────────┬───────────┬────────────┬────────┐\n",
      "│\u001b[1m Species \u001b[0m│\u001b[1m   σ_i1 \u001b[0m│\u001b[1m nᵢ_dot_in \u001b[0m│\u001b[1m nᵢ_dot_out \u001b[0m│\u001b[1m yᵢ_out \u001b[0m│\n",
      "│\u001b[90m         \u001b[0m│\u001b[90m        \u001b[0m│\u001b[90m     mol/s \u001b[0m│\u001b[90m      mol/s \u001b[0m│\u001b[90m        \u001b[0m│\n",
      "├─────────┼────────┼───────────┼────────────┼────────┤\n",
      "│     NH₃ │ #undef │    #undef │     #undef │ #undef │\n",
      "│      N₂ │ #undef │    #undef │     #undef │ #undef │\n",
      "│      H₂ │ #undef │    #undef │     #undef │ #undef │\n",
      "│     H₂O │ #undef │    #undef │     #undef │ #undef │\n",
      "│   Total │ #undef │    #undef │     #undef │ #undef │\n",
      "└─────────┴────────┴───────────┴────────────┴────────┘\n"
     ]
    }
   ],
   "source": [
    "# build a pretty table -\n",
    "# header row -\n",
    "state_table_header_row = ([\"Species\",\"σ_i1\",\"nᵢ_dot_in\",\"nᵢ_dot_out\",\"yᵢ_out\"],[\"\",\"\",\"mol/s\", \"mol/s\", \"\"]);\n",
    "\n",
    "# setup state table data array =\n",
    "state_table_array = Array{Any,2}(undef, 5,5)\n",
    "\n",
    "# add the species to the state table -\n",
    "# row 1\n",
    "state_table_array[1,1] = \"NH₃\"\n",
    "\n",
    "# row 2\n",
    "state_table_array[2,1] = \"N₂\"\n",
    "\n",
    "# row 3\n",
    "state_table_array[3,1] = \"H₂\"\n",
    "\n",
    "# row 4\n",
    "state_table_array[4,1] = \"H₂O\"\n",
    "\n",
    "# row 5\n",
    "state_table_array[5,1] = \"Total\"\n",
    "\n",
    "# Show the table\n",
    "pretty_table(state_table_array; header=state_table_header_row)"
   ]
  },
  {
   "cell_type": "markdown",
   "id": "38b2c307-c9f5-4f2a-8417-ebcaae22f6c8",
   "metadata": {},
   "source": [
    "#### c) Compute the fractional conversion of NH$_{3}$(g)\n",
    "For an open system with a single input and a single output, the fractional conversion $f_{i}$ for reaction $i$ is defined as:\n",
    "\n",
    "$$f_{i} = \\frac{\\dot{n}_{1,i} - \\dot{n}_{2,i}}{\\dot{n}_{1,i}}\\qquad{i=1}$$\n",
    "\n",
    "In the numerator, we are computing the consumption of reactant species $i$ by the reaction in the reactor, and then dividing by the mol flow rate of $i$ entering into the reactor."
   ]
  },
  {
   "cell_type": "code",
   "execution_count": null,
   "id": "c53ffb4d-e672-4a3a-b1c0-31542886e646",
   "metadata": {},
   "outputs": [],
   "source": [
    "# fill me in."
   ]
  }
 ],
 "metadata": {
  "kernelspec": {
   "display_name": "Julia 1.8.0",
   "language": "julia",
   "name": "julia-1.8"
  },
  "language_info": {
   "file_extension": ".jl",
   "mimetype": "application/julia",
   "name": "julia",
   "version": "1.8.0"
  }
 },
 "nbformat": 4,
 "nbformat_minor": 5
}
