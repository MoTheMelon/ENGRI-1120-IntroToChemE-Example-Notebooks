{
 "cells": [
  {
   "cell_type": "markdown",
   "id": "7d4d51d4-df61-4c52-b5e9-9450097655ad",
   "metadata": {},
   "source": [
    "## ENGRI 1120 Flux Balance Analysis of the production mRNA Vaccine BNT-162b2"
   ]
  },
  {
   "cell_type": "markdown",
   "id": "34409c04-5144-4c99-b291-91a040f75863",
   "metadata": {},
   "source": [
    "### Introduction"
   ]
  },
  {
   "cell_type": "markdown",
   "id": "3fe8f724-88b3-4cb5-842b-250f8e6094e5",
   "metadata": {},
   "source": [
    "### Lab setup"
   ]
  },
  {
   "cell_type": "code",
   "execution_count": 1,
   "id": "af71750b-9ba5-4ddd-86eb-8ec481921571",
   "metadata": {},
   "outputs": [
    {
     "name": "stderr",
     "output_type": "stream",
     "text": [
      "\u001b[32m\u001b[1m  Activating\u001b[22m\u001b[39m project at `~/Desktop/julia_work/ENGRI-1120-IntroToChemE-Example-Notebooks/labs/lab-10-flux-balance-analysis`\n",
      "\u001b[32m\u001b[1m  No Changes\u001b[22m\u001b[39m to `~/Desktop/julia_work/ENGRI-1120-IntroToChemE-Example-Notebooks/labs/lab-10-flux-balance-analysis/Project.toml`\n",
      "\u001b[32m\u001b[1m  No Changes\u001b[22m\u001b[39m to `~/Desktop/julia_work/ENGRI-1120-IntroToChemE-Example-Notebooks/labs/lab-10-flux-balance-analysis/Manifest.toml`\n"
     ]
    }
   ],
   "source": [
    "import Pkg; Pkg.activate(\".\"); Pkg.resolve(); Pkg.instantiate();"
   ]
  },
  {
   "cell_type": "code",
   "execution_count": 2,
   "id": "7e9ed6cc-8d1f-4871-9f95-8cff7ebc8a4e",
   "metadata": {},
   "outputs": [],
   "source": [
    "# load reqd packages and set paths -\n",
    "using JLD2\n",
    "using FileIO\n",
    "using PrettyTables\n",
    "using DataFrames\n",
    "using GLPK\n",
    "\n",
    "# setup paths -\n",
    "const _ROOT = pwd();\n",
    "const _PATH_TO_DATA = joinpath(_ROOT, \"data\");"
   ]
  },
  {
   "cell_type": "code",
   "execution_count": 3,
   "id": "5deb8480-13a3-4cb4-b0bc-772c0645eadd",
   "metadata": {},
   "outputs": [],
   "source": [
    "include(\"ENGRI-1120-Lab-10-CodeLib.jl\");"
   ]
  },
  {
   "cell_type": "code",
   "execution_count": 4,
   "id": "9598d69f-c2bc-445d-acea-52cdc130b28b",
   "metadata": {},
   "outputs": [
    {
     "data": {
      "text/plain": [
       "Dict{String, Any} with 7 entries:\n",
       "  \"stochiometric_matrix\" => [-1.0 0.0 … 0.0 0.0; -1.0 0.0 … 0.0 -1.0; … ; 0.0 0…\n",
       "  \"list_of_reactions\"    => [\"TX_BNT_162b2_binding\", \"TX_BNT_162b2_open\", \"BNT_…\n",
       "  \"reaction_table\"       => \u001b[1m5×7 DataFrame\u001b[0m…\n",
       "  \"flux_bounds_array\"    => [-1000.0 1000.0; 0.0 1000.0; … ; 0.0 1000.0; 0.0 10…\n",
       "  \"mRNA_sequence\"        => ['C', 'U', 'C', 'U', 'U', 'A', 'U', 'U', 'U', 'G'  …\n",
       "  \"list_of_species\"      => [\"G_BNT_162b2\", \"T7RNAP\", \"G_BNT_162b2_T7RNAP_close…\n",
       "  \"gene_sequence\"        => ['G', 'A', 'G', 'A', 'A', 'T', 'A', 'A', 'A', 'C'  …"
      ]
     },
     "execution_count": 4,
     "metadata": {},
     "output_type": "execute_result"
    }
   ],
   "source": [
    "# load the model file -\n",
    "model = load(joinpath(_PATH_TO_DATA, \"ENGRI-1120-BNT162b2-Model.jld2\"))[\"model\"]"
   ]
  },
  {
   "cell_type": "code",
   "execution_count": 5,
   "id": "0342d80b-5195-4ca4-a868-ec1514378e87",
   "metadata": {},
   "outputs": [],
   "source": [
    "# get stuff from the model data structure -\n",
    "S = model[\"stochiometric_matrix\"]; # fix the spelling in the model file\n",
    "flux_bounds_array = model[\"flux_bounds_array\"];\n",
    "list_of_species = model[\"list_of_species\"];\n",
    "list_of_reactions = model[\"list_of_reactions\"];"
   ]
  },
  {
   "cell_type": "code",
   "execution_count": 6,
   "id": "9ed2afa0-452f-4327-b9df-68954f6e3a90",
   "metadata": {},
   "outputs": [
    {
     "data": {
      "text/plain": [
       "(16, 5)"
      ]
     },
     "execution_count": 6,
     "metadata": {},
     "output_type": "execute_result"
    }
   ],
   "source": [
    "# how many species, and reactions do we have?\n",
    "(ℳ, ℛ) = size(S)"
   ]
  },
  {
   "cell_type": "code",
   "execution_count": 7,
   "id": "cd622387-0ba9-4265-afce-77aff6cb14e5",
   "metadata": {},
   "outputs": [
    {
     "data": {
      "text/html": [
       "<div><div style = \"float: left;\"><span>5×7 DataFrame</span></div><div style = \"clear: both;\"></div></div><div class = \"data-frame\" style = \"overflow-x: scroll;\"><table class = \"data-frame\" style = \"margin-bottom: 6px;\"><thead><tr class = \"header\"><th class = \"rowNumber\" style = \"font-weight: bold; text-align: right;\">Row</th><th style = \"text-align: left;\">id</th><th style = \"text-align: left;\">forward</th><th style = \"text-align: left;\">reverse</th><th style = \"text-align: left;\">reversibility</th><th style = \"text-align: left;\">LB</th><th style = \"text-align: left;\">UB</th><th style = \"text-align: left;\">ec</th></tr><tr class = \"subheader headerLastRow\"><th class = \"rowNumber\" style = \"font-weight: bold; text-align: right;\"></th><th title = \"String\" style = \"text-align: left;\">String</th><th title = \"String\" style = \"text-align: left;\">String</th><th title = \"String\" style = \"text-align: left;\">String</th><th title = \"Bool\" style = \"text-align: left;\">Bool</th><th title = \"Union{Missing, Float64}\" style = \"text-align: left;\">Float64?</th><th title = \"Union{Missing, Float64}\" style = \"text-align: left;\">Float64?</th><th title = \"Union{Missing, String}\" style = \"text-align: left;\">String?</th></tr></thead><tbody><tr><td class = \"rowNumber\" style = \"font-weight: bold; text-align: right;\">1</td><td style = \"text-align: left;\">TX_BNT_162b2_binding</td><td style = \"text-align: left;\">G_BNT_162b2+T7RNAP</td><td style = \"text-align: left;\">G_BNT_162b2_T7RNAP_closed</td><td style = \"text-align: right;\">true</td><td style = \"text-align: right;\">-Inf</td><td style = \"text-align: right;\">Inf</td><td style = \"font-style: italic; text-align: left;\">missing</td></tr><tr><td class = \"rowNumber\" style = \"font-weight: bold; text-align: right;\">2</td><td style = \"text-align: left;\">TX_BNT_162b2_open</td><td style = \"text-align: left;\">G_BNT_162b2_T7RNAP_closed</td><td style = \"text-align: left;\">G_BNT_162b2_T7RNAP_open</td><td style = \"text-align: right;\">false</td><td style = \"text-align: right;\">0.0</td><td style = \"text-align: right;\">Inf</td><td style = \"font-style: italic; text-align: left;\">missing</td></tr><tr><td class = \"rowNumber\" style = \"font-weight: bold; text-align: right;\">3</td><td style = \"text-align: left;\">BNT_162b2_transcription</td><td style = \"text-align: left;\">G_BNT_162b2_T7RNAP_open+798*M_atp_c+1004*M_utp_c+1060*M_ctp_c+1312*M_gtp_c+4174*M_h2o_c</td><td style = \"text-align: left;\">mRNA_BNT_162b2+G_BNT_162b2+T7RNAP+4174*M_ppi_c</td><td style = \"text-align: right;\">false</td><td style = \"text-align: right;\">0.0</td><td style = \"text-align: right;\">Inf</td><td style = \"text-align: left;\">2.7.7.6</td></tr><tr><td class = \"rowNumber\" style = \"font-weight: bold; text-align: right;\">4</td><td style = \"text-align: left;\">mRNA_BNT_162b2_degradation</td><td style = \"text-align: left;\">mRNA_BNT_162b2</td><td style = \"text-align: left;\">798*M_amp_c+1004*M_ump_c+1060*M_cmp_c+1312*M_gmp_c</td><td style = \"text-align: right;\">false</td><td style = \"text-align: right;\">0.0</td><td style = \"text-align: right;\">Inf</td><td style = \"font-style: italic; text-align: left;\">missing</td></tr><tr><td class = \"rowNumber\" style = \"font-weight: bold; text-align: right;\">5</td><td style = \"text-align: left;\">RNAP_deactivation</td><td style = \"text-align: left;\">T7RNAP</td><td style = \"text-align: left;\">T7RNAP_inactive</td><td style = \"text-align: right;\">false</td><td style = \"text-align: right;\">0.0</td><td style = \"text-align: right;\">Inf</td><td style = \"font-style: italic; text-align: left;\">missing</td></tr></tbody></table></div>"
      ],
      "text/latex": [
       "\\begin{tabular}{r|ccc}\n",
       "\t& id & forward & \\\\\n",
       "\t\\hline\n",
       "\t& String & String & \\\\\n",
       "\t\\hline\n",
       "\t1 & TX\\_BNT\\_162b2\\_binding & G\\_BNT\\_162b2+T7RNAP & $\\dots$ \\\\\n",
       "\t2 & TX\\_BNT\\_162b2\\_open & G\\_BNT\\_162b2\\_T7RNAP\\_closed & $\\dots$ \\\\\n",
       "\t3 & BNT\\_162b2\\_transcription & G\\_BNT\\_162b2\\_T7RNAP\\_open+798*M\\_atp\\_c+1004*M\\_utp\\_c+1060*M\\_ctp\\_c+1312*M\\_gtp\\_c+4174*M\\_h2o\\_c & $\\dots$ \\\\\n",
       "\t4 & mRNA\\_BNT\\_162b2\\_degradation & mRNA\\_BNT\\_162b2 & $\\dots$ \\\\\n",
       "\t5 & RNAP\\_deactivation & T7RNAP & $\\dots$ \\\\\n",
       "\\end{tabular}\n"
      ],
      "text/plain": [
       "\u001b[1m5×7 DataFrame\u001b[0m\n",
       "\u001b[1m Row \u001b[0m│\u001b[1m id                         \u001b[0m\u001b[1m forward                           \u001b[0m\u001b[1m reverse \u001b[0m ⋯\n",
       "     │\u001b[90m String                     \u001b[0m\u001b[90m String                            \u001b[0m\u001b[90m String  \u001b[0m ⋯\n",
       "─────┼──────────────────────────────────────────────────────────────────────────\n",
       "   1 │ TX_BNT_162b2_binding        G_BNT_162b2+T7RNAP                 G_BNT_16 ⋯\n",
       "   2 │ TX_BNT_162b2_open           G_BNT_162b2_T7RNAP_closed          G_BNT_16\n",
       "   3 │ BNT_162b2_transcription     G_BNT_162b2_T7RNAP_open+798*M_at…  mRNA_BNT\n",
       "   4 │ mRNA_BNT_162b2_degradation  mRNA_BNT_162b2                     798*M_am\n",
       "   5 │ RNAP_deactivation           T7RNAP                             T7RNAP_i ⋯\n",
       "\u001b[36m                                                               5 columns omitted\u001b[0m"
      ]
     },
     "execution_count": 7,
     "metadata": {},
     "output_type": "execute_result"
    }
   ],
   "source": [
    "model[\"reaction_table\"]"
   ]
  },
  {
   "cell_type": "code",
   "execution_count": 8,
   "id": "e3091925-69cb-4a34-a6df-30e595a3106f",
   "metadata": {},
   "outputs": [],
   "source": [
    "# setup what's comining into the chip -\n",
    "ṅ₁ = zeros(ℳ,1);\n",
    "ṅ₂ = zeros(ℳ,1);\n",
    "\n",
    "# let's suppose we put the DNA in stream 1 -\n",
    "ṅ₁[1,1] = 10.0;\n",
    "\n",
    "# in stream 2, we have the PURExpress components -\n",
    "ṅ₂[2,1] = 10.0;\n",
    "ṅ₂[5:8,1] .= 100.0;\n",
    "ṅ₂[9,1] = 10000.0\n",
    "\n",
    "# build the species bounds array -\n",
    "species_bounds_array = [-(ṅ₁ .+ ṅ₂) 10000.0*ones(ℳ,1)];"
   ]
  },
  {
   "cell_type": "code",
   "execution_count": 9,
   "id": "94abd344-dac1-4ea1-afe2-40d450e292f3",
   "metadata": {},
   "outputs": [
    {
     "name": "stdout",
     "output_type": "stream",
     "text": [
      "┌───────────────────────────┬────────┬─────────┐\n",
      "│\u001b[1m                    Col. 1 \u001b[0m│\u001b[1m Col. 2 \u001b[0m│\u001b[1m  Col. 3 \u001b[0m│\n",
      "├───────────────────────────┼────────┼─────────┤\n",
      "│               G_BNT_162b2 │   10.0 │     0.0 │\n",
      "│                    T7RNAP │    0.0 │    10.0 │\n",
      "│ G_BNT_162b2_T7RNAP_closed │    0.0 │     0.0 │\n",
      "│   G_BNT_162b2_T7RNAP_open │    0.0 │     0.0 │\n",
      "│                   M_atp_c │    0.0 │   100.0 │\n",
      "│                   M_utp_c │    0.0 │   100.0 │\n",
      "│                   M_ctp_c │    0.0 │   100.0 │\n",
      "│                   M_gtp_c │    0.0 │   100.0 │\n",
      "│                   M_h2o_c │    0.0 │ 10000.0 │\n",
      "│            mRNA_BNT_162b2 │    0.0 │     0.0 │\n",
      "│                   M_ppi_c │    0.0 │     0.0 │\n",
      "│                   M_amp_c │    0.0 │     0.0 │\n",
      "│                   M_ump_c │    0.0 │     0.0 │\n",
      "│                   M_cmp_c │    0.0 │     0.0 │\n",
      "│                   M_gmp_c │    0.0 │     0.0 │\n",
      "│           T7RNAP_inactive │    0.0 │     0.0 │\n",
      "└───────────────────────────┴────────┴─────────┘\n"
     ]
    }
   ],
   "source": [
    "# build a species input table -\n",
    "species_input_table_data = Array{Any,2}(undef, ℳ,3);\n",
    "\n",
    "# populate the table -\n",
    "for i ∈ 1:ℳ\n",
    "    species_input_table_data[i,1] = list_of_species[i]\n",
    "    species_input_table_data[i,2] = ṅ₁[i]\n",
    "    species_input_table_data[i,3] = ṅ₂[i]\n",
    "end\n",
    "\n",
    "\n",
    "# show -\n",
    "pretty_table(species_input_table_data)"
   ]
  },
  {
   "cell_type": "code",
   "execution_count": 10,
   "id": "ea9786ee-f5e6-45fc-a708-daf420147d2b",
   "metadata": {},
   "outputs": [],
   "source": [
    "# setup flux boundsa array -\n",
    "# we get a default from the model generation system, we can update that if we need to -\n",
    "ϵ̇_bounds = flux_bounds_array;"
   ]
  },
  {
   "cell_type": "code",
   "execution_count": 11,
   "id": "54af148f-2225-4b6a-8f08-d742739de5ac",
   "metadata": {},
   "outputs": [
    {
     "data": {
      "text/plain": [
       "5-element Vector{String}:\n",
       " \"TX_BNT_162b2_binding\"\n",
       " \"TX_BNT_162b2_open\"\n",
       " \"BNT_162b2_transcription\"\n",
       " \"mRNA_BNT_162b2_degradation\"\n",
       " \"RNAP_deactivation\""
      ]
     },
     "execution_count": 11,
     "metadata": {},
     "output_type": "execute_result"
    }
   ],
   "source": [
    "list_of_reactions"
   ]
  },
  {
   "cell_type": "code",
   "execution_count": 12,
   "id": "4d777190-8ab9-49e9-ad67-6dd23f65338e",
   "metadata": {},
   "outputs": [
    {
     "data": {
      "text/plain": [
       "16-element Vector{String}:\n",
       " \"G_BNT_162b2\"\n",
       " \"T7RNAP\"\n",
       " \"G_BNT_162b2_T7RNAP_closed\"\n",
       " \"G_BNT_162b2_T7RNAP_open\"\n",
       " \"M_atp_c\"\n",
       " \"M_utp_c\"\n",
       " \"M_ctp_c\"\n",
       " \"M_gtp_c\"\n",
       " \"M_h2o_c\"\n",
       " \"mRNA_BNT_162b2\"\n",
       " \"M_ppi_c\"\n",
       " \"M_amp_c\"\n",
       " \"M_ump_c\"\n",
       " \"M_cmp_c\"\n",
       " \"M_gmp_c\"\n",
       " \"T7RNAP_inactive\""
      ]
     },
     "execution_count": 12,
     "metadata": {},
     "output_type": "execute_result"
    }
   ],
   "source": [
    "list_of_species"
   ]
  },
  {
   "cell_type": "code",
   "execution_count": 13,
   "id": "87c5c13f-0077-4c79-b848-ef5d1084a2e7",
   "metadata": {},
   "outputs": [],
   "source": [
    "# setup the objective coefficient array -\n",
    "obj_vector = zeros(ℛ);\n",
    "obj_vector[3] = -1;"
   ]
  },
  {
   "cell_type": "code",
   "execution_count": 28,
   "id": "bfe00431-ebf6-4261-888f-8e54b564b45a",
   "metadata": {},
   "outputs": [],
   "source": [
    "# compute the optimal flux, and then estimate the output on the chip\n",
    "result = compute_optimal_extent(S, ϵ̇_bounds, species_bounds_array, obj_vector; θ = 0.25);\n",
    "\n",
    "# build a system stream table -\n",
    "ϵ̇ = result.calculated_flux_array;\n",
    "\n",
    "# compute the output -\n",
    "ṅ₃ = (ṅ₁ + ṅ₂) + S*ϵ̇;"
   ]
  },
  {
   "cell_type": "code",
   "execution_count": 25,
   "id": "82fdce10-b768-4874-8229-2d75da123312",
   "metadata": {
    "jupyter": {
     "source_hidden": true
    },
    "tags": []
   },
   "outputs": [
    {
     "name": "stdout",
     "output_type": "stream",
     "text": [
      "┌───────────────────────────┬──────────────┬──────────────┬──────────────┐\n",
      "│\u001b[1m                   Species \u001b[0m│\u001b[1m ṅ₁,ᵢ (mol/t) \u001b[0m│\u001b[1m ṅ₂,ᵢ (mol/t) \u001b[0m│\u001b[1m ṅ₃,ᵢ (mol/t) \u001b[0m│\n",
      "├───────────────────────────┼──────────────┼──────────────┼──────────────┤\n",
      "│               G_BNT_162b2 │         10.0 │          0.0 │         10.0 │\n",
      "│                    T7RNAP │          0.0 │         10.0 │         10.0 │\n",
      "│ G_BNT_162b2_T7RNAP_closed │          0.0 │          0.0 │          0.0 │\n",
      "│   G_BNT_162b2_T7RNAP_open │          0.0 │          0.0 │          0.0 │\n",
      "│                   M_atp_c │          0.0 │        100.0 │       39.177 │\n",
      "│                   M_utp_c │          0.0 │        100.0 │       23.476 │\n",
      "│                   M_ctp_c │          0.0 │        100.0 │       19.207 │\n",
      "│                   M_gtp_c │          0.0 │        100.0 │         -0.0 │\n",
      "│                   M_h2o_c │          0.0 │      10000.0 │      9681.86 │\n",
      "│            mRNA_BNT_162b2 │          0.0 │          0.0 │        0.057 │\n",
      "│                   M_ppi_c │          0.0 │          0.0 │       318.14 │\n",
      "│                   M_amp_c │          0.0 │          0.0 │       15.206 │\n",
      "│                   M_ump_c │          0.0 │          0.0 │       19.131 │\n",
      "│                   M_cmp_c │          0.0 │          0.0 │       20.198 │\n",
      "│                   M_gmp_c │          0.0 │          0.0 │         25.0 │\n",
      "│           T7RNAP_inactive │          0.0 │          0.0 │          0.0 │\n",
      "└───────────────────────────┴──────────────┴──────────────┴──────────────┘\n"
     ]
    }
   ],
   "source": [
    "system_flux_table_data = Array{Any,2}(undef, ℳ, 4);\n",
    "\n",
    "# populate the table -\n",
    "for i ∈ 1:ℳ\n",
    "    system_flux_table_data[i,1] = list_of_species[i]\n",
    "    system_flux_table_data[i,2] = ṅ₁[i]\n",
    "    system_flux_table_data[i,3] = ṅ₂[i]\n",
    "    system_flux_table_data[i,4] = round(ṅ₃[i], digits=3)\n",
    "end\n",
    "\n",
    "# header -\n",
    "state_table_header = ([\"Species\", \"ṅ₁,ᵢ (mol/t)\", \"ṅ₂,ᵢ (mol/t)\", \"ṅ₃,ᵢ (mol/t)\"]);\n",
    "\n",
    "# show -\n",
    "pretty_table(system_flux_table_data; header = state_table_header)"
   ]
  },
  {
   "cell_type": "code",
   "execution_count": null,
   "id": "14792970-65b5-4ff1-9a55-35a0a7f43c41",
   "metadata": {},
   "outputs": [],
   "source": []
  }
 ],
 "metadata": {
  "kernelspec": {
   "display_name": "Julia 1.8.0",
   "language": "julia",
   "name": "julia-1.8"
  },
  "language_info": {
   "file_extension": ".jl",
   "mimetype": "application/julia",
   "name": "julia",
   "version": "1.8.2"
  }
 },
 "nbformat": 4,
 "nbformat_minor": 5
}
