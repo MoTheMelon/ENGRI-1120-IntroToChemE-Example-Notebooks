{
 "cells": [
  {
   "cell_type": "markdown",
   "id": "7d4d51d4-df61-4c52-b5e9-9450097655ad",
   "metadata": {},
   "source": [
    "## ENGRI 1120 Flux Balance Analysis of the production mRNA Vaccine BNT-162b2"
   ]
  },
  {
   "cell_type": "markdown",
   "id": "34409c04-5144-4c99-b291-91a040f75863",
   "metadata": {},
   "source": [
    "### Introduction"
   ]
  },
  {
   "cell_type": "markdown",
   "id": "3fe8f724-88b3-4cb5-842b-250f8e6094e5",
   "metadata": {},
   "source": [
    "### Lab setup"
   ]
  },
  {
   "cell_type": "code",
   "execution_count": 1,
   "id": "af71750b-9ba5-4ddd-86eb-8ec481921571",
   "metadata": {},
   "outputs": [
    {
     "name": "stderr",
     "output_type": "stream",
     "text": [
      "\u001b[32m\u001b[1m  Activating\u001b[22m\u001b[39m project at `~/Desktop/julia_work/ENGRI-1120-IntroToChemE-Example-Notebooks/labs/lab-10-flux-balance-analysis`\n",
      "\u001b[32m\u001b[1m  No Changes\u001b[22m\u001b[39m to `~/Desktop/julia_work/ENGRI-1120-IntroToChemE-Example-Notebooks/labs/lab-10-flux-balance-analysis/Project.toml`\n",
      "\u001b[32m\u001b[1m  No Changes\u001b[22m\u001b[39m to `~/Desktop/julia_work/ENGRI-1120-IntroToChemE-Example-Notebooks/labs/lab-10-flux-balance-analysis/Manifest.toml`\n"
     ]
    }
   ],
   "source": [
    "import Pkg; Pkg.activate(\".\"); Pkg.resolve(); Pkg.instantiate();"
   ]
  },
  {
   "cell_type": "code",
   "execution_count": 2,
   "id": "7e9ed6cc-8d1f-4871-9f95-8cff7ebc8a4e",
   "metadata": {},
   "outputs": [],
   "source": [
    "# load reqd packages and set paths -\n",
    "using JLD2\n",
    "using FileIO\n",
    "using PrettyTables\n",
    "using DataFrames\n",
    "using GLPK\n",
    "\n",
    "# setup paths -\n",
    "const _ROOT = pwd();\n",
    "const _PATH_TO_DATA = joinpath(_ROOT, \"data\");"
   ]
  },
  {
   "cell_type": "code",
   "execution_count": 3,
   "id": "5deb8480-13a3-4cb4-b0bc-772c0645eadd",
   "metadata": {},
   "outputs": [],
   "source": [
    "include(\"ENGRI-1120-Lab-10-CodeLib.jl\");"
   ]
  },
  {
   "cell_type": "code",
   "execution_count": 4,
   "id": "7131ac72-aeba-46e4-94d3-313a64216958",
   "metadata": {},
   "outputs": [],
   "source": [
    "# Constants -\n",
    "V = 30.0*(1/1e6); # volume in L"
   ]
  },
  {
   "cell_type": "code",
   "execution_count": 5,
   "id": "9598d69f-c2bc-445d-acea-52cdc130b28b",
   "metadata": {},
   "outputs": [
    {
     "data": {
      "text/plain": [
       "Dict{String, Any} with 7 entries:\n",
       "  \"stochiometric_matrix\" => [-1.0 0.0 … 0.0 -1.0; -1.0 0.0 … -1.0 0.0; … ; 1.0 …\n",
       "  \"list_of_reactions\"    => [\"TX_BNT_162b2_binding\", \"TX_BNT_162b2_open\", \"BNT_…\n",
       "  \"reaction_table\"       => \u001b[1m6×7 DataFrame\u001b[0m…\n",
       "  \"flux_bounds_array\"    => [-1000.0 1000.0; 0.0 1000.0; … ; 0.0 1000.0; 0.0 10…\n",
       "  \"mRNA_sequence\"        => ['C', 'U', 'C', 'U', 'U', 'A', 'U', 'U', 'U', 'G'  …\n",
       "  \"list_of_species\"      => [\"G_BNT_162b2\", \"T7RNAP\", \"M_atp_c\", \"M_utp_c\", \"M_…\n",
       "  \"gene_sequence\"        => ['G', 'A', 'G', 'A', 'A', 'T', 'A', 'A', 'A', 'C'  …"
      ]
     },
     "execution_count": 5,
     "metadata": {},
     "output_type": "execute_result"
    }
   ],
   "source": [
    "# load the model file -\n",
    "model = load(joinpath(_PATH_TO_DATA, \"ENGRI-1120-BNT162b2-Model.jld2\"))[\"model\"]"
   ]
  },
  {
   "cell_type": "markdown",
   "id": "0fc29721-89ed-4edf-8835-70161d4bf6b7",
   "metadata": {},
   "source": [
    "### What's in the model file?"
   ]
  },
  {
   "cell_type": "code",
   "execution_count": 6,
   "id": "0342d80b-5195-4ca4-a868-ec1514378e87",
   "metadata": {},
   "outputs": [],
   "source": [
    "# get stuff from the model data structure -\n",
    "S = model[\"stochiometric_matrix\"]; # fix the spelling in the model file\n",
    "flux_bounds_array = model[\"flux_bounds_array\"];\n",
    "list_of_species = model[\"list_of_species\"];\n",
    "list_of_reactions = model[\"list_of_reactions\"];\n",
    "reaction_table = model[\"reaction_table\"];\n",
    "gene_sequence = model[\"gene_sequence\"];"
   ]
  },
  {
   "cell_type": "code",
   "execution_count": 7,
   "id": "9ed2afa0-452f-4327-b9df-68954f6e3a90",
   "metadata": {},
   "outputs": [],
   "source": [
    "# how many species, and reactions do we have?\n",
    "(ℳ, ℛ) = size(S);"
   ]
  },
  {
   "cell_type": "code",
   "execution_count": 8,
   "id": "34552d8c-ed40-4dc1-92f3-a57f8ca1d2d3",
   "metadata": {
    "tags": []
   },
   "outputs": [
    {
     "name": "stdout",
     "output_type": "stream",
     "text": [
      "┌───────┬───────────────────────────┐\n",
      "│\u001b[1m Index \u001b[0m│\u001b[1m                   Species \u001b[0m│\n",
      "├───────┼───────────────────────────┤\n",
      "│     1 │               G_BNT_162b2 │\n",
      "│     2 │                    T7RNAP │\n",
      "│     3 │                   M_atp_c │\n",
      "│     4 │                   M_utp_c │\n",
      "│     5 │                   M_ctp_c │\n",
      "│     6 │                   M_gtp_c │\n",
      "│     7 │            mRNA_BNT_162b2 │\n",
      "│     8 │                   M_ppi_c │\n",
      "│     9 │                   M_amp_c │\n",
      "│    10 │                   M_ump_c │\n",
      "│    11 │                   M_cmp_c │\n",
      "│    12 │                   M_gmp_c │\n",
      "│    13 │           T7RNAP_inactive │\n",
      "│    14 │      G_BNT_162b2_inactive │\n",
      "│    15 │ G_BNT_162b2_T7RNAP_closed │\n",
      "│    16 │   G_BNT_162b2_T7RNAP_open │\n",
      "└───────┴───────────────────────────┘\n"
     ]
    }
   ],
   "source": [
    "# species table -\n",
    "\n",
    "# initialize -\n",
    "species_index_table_data = Array{Any,2}(undef, ℳ, 2);\n",
    "\n",
    "# build table -\n",
    "for i ∈ 1:ℳ\n",
    "    species_index_table_data[i,1] = i;\n",
    "    species_index_table_data[i,2] = list_of_species[i];\n",
    "end\n",
    "\n",
    "# setup header -\n",
    "species_index_header_table = ([\"Index\", \"Species\"]);\n",
    "\n",
    "# build table -\n",
    "pretty_table(species_index_table_data; header=species_index_header_table);"
   ]
  },
  {
   "cell_type": "code",
   "execution_count": 9,
   "id": "e3091925-69cb-4a34-a6df-30e595a3106f",
   "metadata": {},
   "outputs": [],
   "source": [
    "# setup what's comining into the chip -\n",
    "ṅ₁ = zeros(ℳ,1);\n",
    "ṅ₂ = zeros(ℳ,1);\n",
    "\n",
    "# Stream 1: only DNA\n",
    "# let's suppose we put the DNA in stream 1 -\n",
    "ṅ₁[1,1] = 10.0;\n",
    "\n",
    "# Stream 2: the PURExpress mixture\n",
    "# in stream 2, we have the PURExpress components -\n",
    "ṅ₂[2,1] = 10.0;   # T7RNAP\n",
    "ṅ₂[3,1] = 250.0;  # M_atp_c\n",
    "ṅ₂[4,1] = 250.0;  # M_utp_c\n",
    "ṅ₂[5,1] = 250.0;  # M_ctp_c\n",
    "ṅ₂[6,1] = 300.0;  # M_gtp_c\n",
    "\n",
    "# Build the species bounds array -\n",
    "species_bounds_array = [-(ṅ₁ .+ ṅ₂) 10000.0*ones(ℳ,1)];"
   ]
  },
  {
   "cell_type": "code",
   "execution_count": 10,
   "id": "94abd344-dac1-4ea1-afe2-40d450e292f3",
   "metadata": {
    "tags": []
   },
   "outputs": [
    {
     "name": "stdout",
     "output_type": "stream",
     "text": [
      "┌───────────────────────────┬───────────────┬───────────────┐\n",
      "│\u001b[1m                   Species \u001b[0m│\u001b[1m ṅ₁,ᵢ (μmol/t) \u001b[0m│\u001b[1m ṅ₁,₂ (μmol/t) \u001b[0m│\n",
      "├───────────────────────────┼───────────────┼───────────────┤\n",
      "│               G_BNT_162b2 │          10.0 │           0.0 │\n",
      "│                    T7RNAP │           0.0 │          10.0 │\n",
      "│                   M_atp_c │           0.0 │         250.0 │\n",
      "│                   M_utp_c │           0.0 │         250.0 │\n",
      "│                   M_ctp_c │           0.0 │         250.0 │\n",
      "│                   M_gtp_c │           0.0 │         250.0 │\n",
      "│            mRNA_BNT_162b2 │           0.0 │           0.0 │\n",
      "│                   M_ppi_c │           0.0 │           0.0 │\n",
      "│                   M_amp_c │           0.0 │           0.0 │\n",
      "│                   M_ump_c │           0.0 │           0.0 │\n",
      "│                   M_cmp_c │           0.0 │           0.0 │\n",
      "│                   M_gmp_c │           0.0 │           0.0 │\n",
      "│           T7RNAP_inactive │           0.0 │           0.0 │\n",
      "│      G_BNT_162b2_inactive │           0.0 │           0.0 │\n",
      "│ G_BNT_162b2_T7RNAP_closed │           0.0 │           0.0 │\n",
      "│   G_BNT_162b2_T7RNAP_open │           0.0 │           0.0 │\n",
      "└───────────────────────────┴───────────────┴───────────────┘\n"
     ]
    }
   ],
   "source": [
    "# build a species input table -\n",
    "species_input_table_data = Array{Any,2}(undef, ℳ,3);\n",
    "\n",
    "# populate the table -\n",
    "for i ∈ 1:ℳ\n",
    "    species_input_table_data[i,1] = list_of_species[i]\n",
    "    species_input_table_data[i,2] = ṅ₁[i]\n",
    "    species_input_table_data[i,3] = ṅ₂[i]\n",
    "end\n",
    "\n",
    "# header for input composition table -\n",
    "header_input_table = ([\"Species\", \"ṅ₁,ᵢ (μmol/t)\", \"ṅ₁,₂ (μmol/t)\"]);\n",
    "\n",
    "# show -\n",
    "pretty_table(species_input_table_data; header=header_input_table)"
   ]
  },
  {
   "cell_type": "markdown",
   "id": "9e45721a-63a0-4ab0-af49-e607b9305c39",
   "metadata": {
    "tags": []
   },
   "source": [
    "### Setup reaction bounds\n",
    "We get default bounds from the model generation system and can update these to model the reactions on the chip. The first reaction we consider is the `BNT_162b2_transcription` reaction; then, we'll set up bounds on the mRNA, RNAP, and Gene degradation."
   ]
  },
  {
   "cell_type": "code",
   "execution_count": 11,
   "id": "02f2f208-6417-4648-8b58-4b71695b50f8",
   "metadata": {
    "jupyter": {
     "source_hidden": true
    },
    "tags": []
   },
   "outputs": [
    {
     "name": "stdout",
     "output_type": "stream",
     "text": [
      "┌───────┬────────────────────────────┐\n",
      "│\u001b[1m Index \u001b[0m│\u001b[1m                   Reaction \u001b[0m│\n",
      "├───────┼────────────────────────────┤\n",
      "│     1 │       TX_BNT_162b2_binding │\n",
      "│     2 │          TX_BNT_162b2_open │\n",
      "│     3 │    BNT_162b2_transcription │\n",
      "│     4 │ mRNA_BNT_162b2_degradation │\n",
      "│     5 │          RNAP_deactivation │\n",
      "│     6 │          GENE_deactivation │\n",
      "└───────┴────────────────────────────┘\n"
     ]
    }
   ],
   "source": [
    "# reaction table -\n",
    "\n",
    "# initialize -\n",
    "reaction_index_table_data = Array{Any,2}(undef, ℛ, 2);\n",
    "\n",
    "# build table -\n",
    "for i ∈ 1:ℛ\n",
    "    reaction_index_table_data[i,1] = i;\n",
    "    reaction_index_table_data[i,2] = list_of_reactions[i];\n",
    "end\n",
    "\n",
    "# setup header -\n",
    "reaction_index_header_table = ([\"Index\", \"Reaction\"]);\n",
    "\n",
    "# build table -\n",
    "pretty_table(reaction_index_table_data; header=reaction_index_header_table);"
   ]
  },
  {
   "cell_type": "code",
   "execution_count": 12,
   "id": "ea9786ee-f5e6-45fc-a708-daf420147d2b",
   "metadata": {},
   "outputs": [],
   "source": [
    "# get the default bounds\n",
    "ϵ̇_bounds = flux_bounds_array;"
   ]
  },
  {
   "cell_type": "code",
   "execution_count": 13,
   "id": "9e8a2ef0-aa35-4532-92fc-23cd527189b8",
   "metadata": {},
   "outputs": [],
   "source": [
    "# Setup bounds -\n",
    "L = length(gene_sequence);\n",
    "v̇ₜ = (40.0)*(3600);\n",
    "Rₜ = 1000.0*V;\n",
    "u = 0.95; # u-factor\n",
    "ϵ̇_bounds[3,2] = Rₜ*(v̇ₜ/L)*u;"
   ]
  },
  {
   "cell_type": "code",
   "execution_count": 14,
   "id": "d0a6c0e8-9b4f-45cf-9df6-9726b122a768",
   "metadata": {},
   "outputs": [
    {
     "data": {
      "text/plain": [
       "6×2 Matrix{Float64}:\n",
       " -1000.0  1000.0\n",
       "     0.0  1000.0\n",
       "     0.0     0.982994\n",
       "     0.0  1000.0\n",
       "     0.0  1000.0\n",
       "     0.0  1000.0"
      ]
     },
     "execution_count": 14,
     "metadata": {},
     "output_type": "execute_result"
    }
   ],
   "source": [
    "ϵ̇_bounds"
   ]
  },
  {
   "cell_type": "code",
   "execution_count": 15,
   "id": "87c5c13f-0077-4c79-b848-ef5d1084a2e7",
   "metadata": {},
   "outputs": [],
   "source": [
    "# setup the objective coefficient array -\n",
    "obj_vector = zeros(ℛ);\n",
    "obj_vector[3] = -1; # maximize BNT_162b2_transcription reaction"
   ]
  },
  {
   "cell_type": "code",
   "execution_count": 16,
   "id": "bfe00431-ebf6-4261-888f-8e54b564b45a",
   "metadata": {},
   "outputs": [],
   "source": [
    "# compute the optimal flux, and then estimate the output on the chip\n",
    "result = compute_optimal_extent(S, ϵ̇_bounds, species_bounds_array, obj_vector; θ = 0.01);\n",
    "\n",
    "# build a system stream table -\n",
    "ϵ̇ = result.calculated_flux_array;\n",
    "\n",
    "# compute the output -\n",
    "ṅ₃ = (ṅ₁ + ṅ₂) + S*ϵ̇;\n",
    "\n",
    "# compute the Δ reaction -\n",
    "Δ = S*ϵ̇;"
   ]
  },
  {
   "cell_type": "code",
   "execution_count": 17,
   "id": "1c24a186-60a5-4a4a-9563-837ce0badb4c",
   "metadata": {},
   "outputs": [
    {
     "name": "stdout",
     "output_type": "stream",
     "text": [
      "Solver returned the exit flag = 5\n"
     ]
    }
   ],
   "source": [
    "# check:\n",
    "exit_flag = result.status_flag\n",
    "println(\"Solver returned the exit flag = $(exit_flag)\")"
   ]
  },
  {
   "cell_type": "code",
   "execution_count": 18,
   "id": "82fdce10-b768-4874-8229-2d75da123312",
   "metadata": {
    "tags": []
   },
   "outputs": [
    {
     "name": "stdout",
     "output_type": "stream",
     "text": [
      "┌───────────────────────────┬───────────────┬───────────────┬───────────────┬────────────┐\n",
      "│\u001b[1m                   Species \u001b[0m│\u001b[1m ṅ₁,ᵢ (μmol/t) \u001b[0m│\u001b[1m ṅ₂,ᵢ (μmol/t) \u001b[0m│\u001b[1m ṅ₃,ᵢ (μmol/t) \u001b[0m│\u001b[1m Δ (μmol/t) \u001b[0m│\n",
      "├───────────────────────────┼───────────────┼───────────────┼───────────────┼────────────┤\n",
      "│               G_BNT_162b2 │          10.0 │           0.0 │          10.0 │        0.0 │\n",
      "│                    T7RNAP │           0.0 │          10.0 │          10.0 │        0.0 │\n",
      "│                   M_atp_c │           0.0 │         250.0 │        97.942 │   -152.058 │\n",
      "│                   M_utp_c │           0.0 │         250.0 │        58.689 │   -191.311 │\n",
      "│                   M_ctp_c │           0.0 │         250.0 │        48.018 │   -201.982 │\n",
      "│                   M_gtp_c │           0.0 │         250.0 │           0.0 │     -250.0 │\n",
      "│            mRNA_BNT_162b2 │           0.0 │           0.0 │         0.189 │      0.189 │\n",
      "│                   M_ppi_c │           0.0 │           0.0 │       795.351 │    795.351 │\n",
      "│                   M_amp_c │           0.0 │           0.0 │         1.521 │      1.521 │\n",
      "│                   M_ump_c │           0.0 │           0.0 │         1.913 │      1.913 │\n",
      "│                   M_cmp_c │           0.0 │           0.0 │          2.02 │       2.02 │\n",
      "│                   M_gmp_c │           0.0 │           0.0 │           2.5 │        2.5 │\n",
      "│           T7RNAP_inactive │           0.0 │           0.0 │           0.0 │        0.0 │\n",
      "│      G_BNT_162b2_inactive │           0.0 │           0.0 │           0.0 │        0.0 │\n",
      "│ G_BNT_162b2_T7RNAP_closed │           0.0 │           0.0 │          -0.0 │       -0.0 │\n",
      "│   G_BNT_162b2_T7RNAP_open │           0.0 │           0.0 │           0.0 │        0.0 │\n",
      "└───────────────────────────┴───────────────┴───────────────┴───────────────┴────────────┘\n"
     ]
    }
   ],
   "source": [
    "system_flux_table_data = Array{Any,2}(undef, ℳ, 5);\n",
    "\n",
    "# populate the table -\n",
    "for i ∈ 1:ℳ\n",
    "    system_flux_table_data[i,1] = list_of_species[i];\n",
    "    system_flux_table_data[i,2] = ṅ₁[i];\n",
    "    system_flux_table_data[i,3] = ṅ₂[i];\n",
    "    system_flux_table_data[i,4] = round(ṅ₃[i], digits=3);\n",
    "    system_flux_table_data[i,5] = round(Δ[i], digits=3);\n",
    "end\n",
    "\n",
    "# header -\n",
    "state_table_header = ([\"Species\", \"ṅ₁,ᵢ (μmol/t)\", \"ṅ₂,ᵢ (μmol/t)\", \"ṅ₃,ᵢ (μmol/t)\", \"Δ (μmol/t)\"]);\n",
    "\n",
    "# show -\n",
    "pretty_table(system_flux_table_data; header = state_table_header)"
   ]
  },
  {
   "cell_type": "code",
   "execution_count": null,
   "id": "14792970-65b5-4ff1-9a55-35a0a7f43c41",
   "metadata": {},
   "outputs": [],
   "source": []
  }
 ],
 "metadata": {
  "kernelspec": {
   "display_name": "Julia 1.8.0",
   "language": "julia",
   "name": "julia-1.8"
  },
  "language_info": {
   "file_extension": ".jl",
   "mimetype": "application/julia",
   "name": "julia",
   "version": "1.8.2"
  }
 },
 "nbformat": 4,
 "nbformat_minor": 5
}
