{
 "cells": [
  {
   "cell_type": "markdown",
   "id": "c704f947-a058-45d5-a553-0662d55d2121",
   "metadata": {},
   "source": [
    "# ENGRI 1120 Discussion 7: Calculation of Activity Coefficients for Binary and Multicomponent Liquid Mixtures"
   ]
  },
  {
   "cell_type": "markdown",
   "id": "0dc24071-64fd-40ac-b26e-7081522bf122",
   "metadata": {},
   "source": [
    "## Introduction\n",
    "When dealing with binary mixtures, we can use the [Two Suffix Margules models](https://en.wikipedia.org/wiki/Margules_activity_model) to estimate the activity coefficients $\\ln\\hat{\\gamma}_{i}$. The $A_{ij}$ parameters in these models are tabulated in reference books for various mixtures. \n",
    "\n",
    "However, in liquid-liquid extraction applications, we have at least three components; solvent 1, solvent 2, and the material dissolved in solvent one that we want to extract. Thus, the tools we developed for binary mixtures, e.g., the two-suffix Margules model, are not applicable. \n",
    "\n",
    "To model multicomponent mixtures, let's use another standard model, the Wilson Model, to compute the activity coefficients. However, that there are also other prominent models, such as the [Non-Random Two Liquid (NRTL)](https://en.wikipedia.org/wiki/Non-random_two-liquid_model) models that are also widely used for multicomponent mixtures."
   ]
  },
  {
   "cell_type": "markdown",
   "id": "fd21c3f7-248a-44f0-a012-321491d26200",
   "metadata": {},
   "source": [
    "### Multicomponent Wilson Model\n",
    "The excess Gibbs energy for the Wilson Model is given by the expression:\n",
    "\n",
    "$$\n",
    "\\frac{G^{E}}{RT} = -\\sum_{i\\in\\mathcal{M}}x_{i}\\ln\\left(\\sum_{j\\in\\mathcal{M}}x_{j}\\Lambda_{ij}\\right)\n",
    "$$\n",
    "\n",
    "where the interaction term(s) $\\Lambda_{ij}$ are given by:\n",
    "\n",
    "$$\n",
    "\\Lambda_{ij} = \\frac{V_{j}}{V_{i}}\\exp\\left(\\frac{-a_{ij}}{RT}\\right)\n",
    "$$\n",
    "\n",
    "Starting from excess Gibbs energy expression, after some (magical) manipulation, we arrive at an expression for the activity coefficient for component $i$:\n",
    "\n",
    "$$\n",
    "\\displaystyle{\n",
    "\\ln\\hat{\\gamma}_{i} = 1 - \\ln\\left(\\sum_{j\\in\\mathcal{M}}x_{j}\\Lambda_{ij}\\right) - \\sum_{k\\in\\mathcal{M}}\\frac{x_{k}\\Lambda_{ki}}{\\sum_{j\\in\\mathcal{M}}x_{j}\\Lambda_{kj}}}\n",
    "$$\n",
    "\n",
    "where $\\Lambda_{ij} = 1$ for $i=j$"
   ]
  },
  {
   "cell_type": "markdown",
   "id": "8645996e-7d84-41cd-a7a1-4bf8cd156333",
   "metadata": {},
   "source": [
    "## Lab setup\n",
    "The code block below installs (and loads) [Julia](https://julialang.org) packages that we use to solve the species mass balance equations."
   ]
  },
  {
   "cell_type": "code",
   "execution_count": 15,
   "id": "73bc2fb8-a7d2-43d2-867f-6074e099165f",
   "metadata": {},
   "outputs": [
    {
     "name": "stderr",
     "output_type": "stream",
     "text": [
      "\u001b[32m\u001b[1m  Activating\u001b[22m\u001b[39m project at `C:\\Users\\ortiz\\Documents\\GitHub\\ENGRI-1120-IntroToChemE-Example-Notebooks\\labs\\lab-7-single-lle-seperation`\n",
      "\u001b[32m\u001b[1m  No Changes\u001b[22m\u001b[39m to `C:\\Users\\ortiz\\Documents\\GitHub\\ENGRI-1120-IntroToChemE-Example-Notebooks\\labs\\lab-7-single-lle-seperation\\Project.toml`\n",
      "\u001b[32m\u001b[1m  No Changes\u001b[22m\u001b[39m to `C:\\Users\\ortiz\\Documents\\GitHub\\ENGRI-1120-IntroToChemE-Example-Notebooks\\labs\\lab-7-single-lle-seperation\\Manifest.toml`\n"
     ]
    }
   ],
   "source": [
    "import Pkg; Pkg.activate(\".\"); Pkg.resolve(); Pkg.instantiate();"
   ]
  },
  {
   "cell_type": "code",
   "execution_count": 16,
   "id": "71f6f5f9-3083-4def-8932-3865cb7316ad",
   "metadata": {},
   "outputs": [],
   "source": [
    "# Load required packages \n",
    "using LinearAlgebra\n",
    "using CSV\n",
    "using DataFrames\n",
    "using Plots\n",
    "using Colors\n",
    "\n",
    "# setup paths -\n",
    "const _ROOT = pwd()\n",
    "const _PATH_TO_DATA = joinpath(_ROOT, \"figs\");"
   ]
  },
  {
   "cell_type": "markdown",
   "id": "7d0b6431-d232-4fe3-894a-782fbee96418",
   "metadata": {},
   "source": [
    "### Load the Lab 7 code library"
   ]
  },
  {
   "cell_type": "code",
   "execution_count": 17,
   "id": "da3cc645-913e-4861-aff8-4b9a5de845ac",
   "metadata": {},
   "outputs": [],
   "source": [
    "include(\"ENGRI-1120-Lab-7-CodeLib.jl\");"
   ]
  },
  {
   "cell_type": "markdown",
   "id": "dbb3a718-fd9b-4d16-af1a-c7cd73c9e2b0",
   "metadata": {},
   "source": [
    "## a) Calculations $G^{E}/RT$ and $\\gamma$ calculations\n",
    "The condition to form a stable single-phase binary equilibrium is given by:\n",
    "\n",
    "$$\\frac{d^{2}}{dx_{1}^{2}}\\left(\\frac{G^{E}}{RT}\\right)> -\\frac{1}{x_{1}x_{2}}$$"
   ]
  },
  {
   "cell_type": "code",
   "execution_count": 18,
   "id": "d5d4cf4b-7523-4f72-8a58-f9ae75e33488",
   "metadata": {},
   "outputs": [],
   "source": [
    "# Build the Λ-matrix for Acetone-Acetonitrile at T = 318.15K\n",
    "Λ = [1 0.79; 4.1755 1];\n",
    "\n",
    "# setup composition array -\n",
    "N = 1000\n",
    "x₁_array = range(0.0,stop=1.0,length=N) |> collect;\n",
    "\n",
    "gE_array = Array{Float64,2}(undef, N, 2);\n",
    "for i ∈ 1:N\n",
    "    \n",
    "    x₁ = x₁_array[i]\n",
    "    x₂ = 1 - x₁\n",
    "    \n",
    "    gE_value = compute_gibbs_excess_energy([x₁,x₂], Λ; T = 318.15);\n",
    "    gE_array[i,1] = x₁\n",
    "    gE_array[i,2] = gE_value\n",
    "end"
   ]
  },
  {
   "cell_type": "code",
   "execution_count": 19,
   "id": "224e2241-2b0e-4da4-8cf7-86b36fcbcdf6",
   "metadata": {},
   "outputs": [
    {
     "ename": "SystemError",
     "evalue": "SystemError: opening file \"C:\\\\Users\\\\ortiz\\\\AppData\\\\Local\\\\Temp\\\\jl_EFELqlWnE9.svg\": No such file or directory",
     "output_type": "error",
     "traceback": [
      "SystemError: opening file \"C:\\\\Users\\\\ortiz\\\\AppData\\\\Local\\\\Temp\\\\jl_EFELqlWnE9.svg\": No such file or directory",
      "",
      "Stacktrace:",
      "  [1] systemerror(p::String, errno::Int32; extrainfo::Nothing)",
      "    @ Base .\\error.jl:176",
      "  [2] #systemerror#80",
      "    @ .\\error.jl:175 [inlined]",
      "  [3] systemerror",
      "    @ .\\error.jl:175 [inlined]",
      "  [4] open(fname::String; lock::Bool, read::Nothing, write::Nothing, create::Nothing, truncate::Nothing, append::Nothing)",
      "    @ Base .\\iostream.jl:293",
      "  [5] open",
      "    @ .\\iostream.jl:275 [inlined]",
      "  [6] open(f::Base.var\"#386#387\"{String}, args::String; kwargs::Base.Pairs{Symbol, Union{}, Tuple{}, NamedTuple{(), Tuple{}}})",
      "    @ Base .\\io.jl:382",
      "  [7] open",
      "    @ .\\io.jl:381 [inlined]",
      "  [8] read",
      "    @ .\\io.jl:462 [inlined]",
      "  [9] _show(io::IOBuffer, #unused#::MIME{Symbol(\"image/svg+xml\")}, plt::Plots.Plot{Plots.GRBackend})",
      "    @ Plots C:\\Users\\ortiz\\.julia\\packages\\Plots\\nbICw\\src\\backends\\gr.jl:2184",
      " [10] #invokelatest#2",
      "    @ .\\essentials.jl:729 [inlined]",
      " [11] invokelatest",
      "    @ .\\essentials.jl:726 [inlined]",
      " [12] show(io::IOBuffer, m::MIME{Symbol(\"image/svg+xml\")}, plt::Plots.Plot{Plots.GRBackend})",
      "    @ Plots C:\\Users\\ortiz\\.julia\\packages\\Plots\\nbICw\\src\\output.jl:227",
      " [13] sprint(::Function, ::MIME{Symbol(\"image/svg+xml\")}, ::Vararg{Any}; context::Nothing, sizehint::Int64)",
      "    @ Base .\\strings\\io.jl:114",
      " [14] sprint",
      "    @ .\\strings\\io.jl:107 [inlined]",
      " [15] _ijulia_display_dict(plt::Plots.Plot{Plots.GRBackend})",
      "    @ Plots C:\\Users\\ortiz\\.julia\\packages\\Plots\\nbICw\\src\\ijulia.jl:47",
      " [16] display_dict(plt::Plots.Plot{Plots.GRBackend})",
      "    @ Plots C:\\Users\\ortiz\\.julia\\packages\\Plots\\nbICw\\src\\init.jl:114",
      " [17] #invokelatest#2",
      "    @ .\\essentials.jl:729 [inlined]",
      " [18] invokelatest",
      "    @ .\\essentials.jl:726 [inlined]",
      " [19] execute_request(socket::ZMQ.Socket, msg::IJulia.Msg)",
      "    @ IJulia C:\\Users\\ortiz\\.julia\\packages\\IJulia\\AQu2H\\src\\execute_request.jl:112",
      " [20] #invokelatest#2",
      "    @ .\\essentials.jl:729 [inlined]",
      " [21] invokelatest",
      "    @ .\\essentials.jl:726 [inlined]",
      " [22] eventloop(socket::ZMQ.Socket)",
      "    @ IJulia C:\\Users\\ortiz\\.julia\\packages\\IJulia\\AQu2H\\src\\eventloop.jl:8",
      " [23] (::IJulia.var\"#15#18\")()",
      "    @ IJulia .\\task.jl:484"
     ]
    }
   ],
   "source": [
    "# make a plot -\n",
    "plot(gE_array[:,1], 1000*gE_array[:,2], legend=:topright, lw=3, bg=\"floralwhite\", background_color_outside=\"white\", framestyle = :box, fg_legend = :transparent, label=\"G^E/RT\")\n",
    "xlabel!(\"Composition x₁\", fontsize=18)\n",
    "ylabel!(\"Normalized Gibbs Excess Energy\", Fontsize=18)"
   ]
  },
  {
   "cell_type": "code",
   "execution_count": 20,
   "id": "9a1cddeb-5282-409f-ab86-7b9b862d64f5",
   "metadata": {},
   "outputs": [],
   "source": [
    "# compute the γ values -\n",
    "gamma_array = Array{Float64,2}(undef, N, 3);\n",
    "for i ∈ 1:N\n",
    "    \n",
    "    x₁ = x₁_array[i]\n",
    "    x₂ = 1 - x₁    \n",
    "    \n",
    "    gamma_array[i,1] = x₁\n",
    "    gamma_array[i,2] = γ₁([x₁,x₂], Λ);\n",
    "    gamma_array[i,3] = γ₂([x₁,x₂], Λ);\n",
    "end"
   ]
  },
  {
   "cell_type": "code",
   "execution_count": 21,
   "id": "eb82a103-2aff-4d07-95a4-23f8171f1e76",
   "metadata": {},
   "outputs": [
    {
     "data": {
      "text/plain": [
       "1000×3 Matrix{Float64}:\n",
       " 0.0         0.0528775  1.0\n",
       " 0.001001    0.053723   0.999992\n",
       " 0.002002    0.0545761  0.999968\n",
       " 0.003003    0.0554368  0.999929\n",
       " 0.004004    0.056305   0.999875\n",
       " 0.00500501  0.0571807  0.999805\n",
       " 0.00600601  0.058064   0.99972\n",
       " 0.00700701  0.0589548  0.99962\n",
       " 0.00800801  0.059853   0.999506\n",
       " 0.00900901  0.0607587  0.999377\n",
       " 0.01001     0.0616719  0.999234\n",
       " 0.011011    0.0625926  0.999077\n",
       " 0.012012    0.0635207  0.998905\n",
       " ⋮                      \n",
       " 0.988989    0.99993    0.299214\n",
       " 0.98999     0.999942   0.29887\n",
       " 0.990991    0.999953   0.298526\n",
       " 0.991992    0.999963   0.298183\n",
       " 0.992993    0.999972   0.29784\n",
       " 0.993994    0.999979   0.297498\n",
       " 0.994995    0.999986   0.297156\n",
       " 0.995996    0.999991   0.296815\n",
       " 0.996997    0.999995   0.296475\n",
       " 0.997998    0.999998   0.296135\n",
       " 0.998999    0.999999   0.295795\n",
       " 1.0         1.0        0.295456"
      ]
     },
     "execution_count": 21,
     "metadata": {},
     "output_type": "execute_result"
    }
   ],
   "source": [
    "gamma_array"
   ]
  },
  {
   "cell_type": "code",
   "execution_count": 22,
   "id": "023958d3-be8f-40fd-950a-ee8691d9c2c4",
   "metadata": {},
   "outputs": [
    {
     "ename": "SystemError",
     "evalue": "SystemError: opening file \"C:\\\\Users\\\\ortiz\\\\AppData\\\\Local\\\\Temp\\\\jl_yR2bOrMjCf.svg\": No such file or directory",
     "output_type": "error",
     "traceback": [
      "SystemError: opening file \"C:\\\\Users\\\\ortiz\\\\AppData\\\\Local\\\\Temp\\\\jl_yR2bOrMjCf.svg\": No such file or directory",
      "",
      "Stacktrace:",
      "  [1] systemerror(p::String, errno::Int32; extrainfo::Nothing)",
      "    @ Base .\\error.jl:176",
      "  [2] #systemerror#80",
      "    @ .\\error.jl:175 [inlined]",
      "  [3] systemerror",
      "    @ .\\error.jl:175 [inlined]",
      "  [4] open(fname::String; lock::Bool, read::Nothing, write::Nothing, create::Nothing, truncate::Nothing, append::Nothing)",
      "    @ Base .\\iostream.jl:293",
      "  [5] open",
      "    @ .\\iostream.jl:275 [inlined]",
      "  [6] open(f::Base.var\"#386#387\"{String}, args::String; kwargs::Base.Pairs{Symbol, Union{}, Tuple{}, NamedTuple{(), Tuple{}}})",
      "    @ Base .\\io.jl:382",
      "  [7] open",
      "    @ .\\io.jl:381 [inlined]",
      "  [8] read",
      "    @ .\\io.jl:462 [inlined]",
      "  [9] _show(io::IOBuffer, #unused#::MIME{Symbol(\"image/svg+xml\")}, plt::Plots.Plot{Plots.GRBackend})",
      "    @ Plots C:\\Users\\ortiz\\.julia\\packages\\Plots\\nbICw\\src\\backends\\gr.jl:2184",
      " [10] #invokelatest#2",
      "    @ .\\essentials.jl:729 [inlined]",
      " [11] invokelatest",
      "    @ .\\essentials.jl:726 [inlined]",
      " [12] show(io::IOBuffer, m::MIME{Symbol(\"image/svg+xml\")}, plt::Plots.Plot{Plots.GRBackend})",
      "    @ Plots C:\\Users\\ortiz\\.julia\\packages\\Plots\\nbICw\\src\\output.jl:227",
      " [13] sprint(::Function, ::MIME{Symbol(\"image/svg+xml\")}, ::Vararg{Any}; context::Nothing, sizehint::Int64)",
      "    @ Base .\\strings\\io.jl:114",
      " [14] sprint",
      "    @ .\\strings\\io.jl:107 [inlined]",
      " [15] _ijulia_display_dict(plt::Plots.Plot{Plots.GRBackend})",
      "    @ Plots C:\\Users\\ortiz\\.julia\\packages\\Plots\\nbICw\\src\\ijulia.jl:47",
      " [16] display_dict(plt::Plots.Plot{Plots.GRBackend})",
      "    @ Plots C:\\Users\\ortiz\\.julia\\packages\\Plots\\nbICw\\src\\init.jl:114",
      " [17] #invokelatest#2",
      "    @ .\\essentials.jl:729 [inlined]",
      " [18] invokelatest",
      "    @ .\\essentials.jl:726 [inlined]",
      " [19] execute_request(socket::ZMQ.Socket, msg::IJulia.Msg)",
      "    @ IJulia C:\\Users\\ortiz\\.julia\\packages\\IJulia\\AQu2H\\src\\execute_request.jl:112",
      " [20] #invokelatest#2",
      "    @ .\\essentials.jl:729 [inlined]",
      " [21] invokelatest",
      "    @ .\\essentials.jl:726 [inlined]",
      " [22] eventloop(socket::ZMQ.Socket)",
      "    @ IJulia C:\\Users\\ortiz\\.julia\\packages\\IJulia\\AQu2H\\src\\eventloop.jl:8",
      " [23] (::IJulia.var\"#15#18\")()",
      "    @ IJulia .\\task.jl:484"
     ]
    }
   ],
   "source": [
    "plot(gamma_array[:,1], gamma_array[:,2], legend=:bottomright, lw=3, bg=\"floralwhite\", \n",
    "    background_color_outside=\"white\", framestyle = :box, fg_legend = :transparent, \n",
    "    label=\"γ₁\", c=colorant\"#EF4035\")\n",
    "plot!(gamma_array[:,1], gamma_array[:,3], lw=3, label=\"γ₂\", c=colorant\"#0068AC\")\n",
    "\n",
    "xlabel!(\"Composition x₁\", fontsize=18)\n",
    "ylabel!(\"Activity coefficient γᵢ (Wilson model)\", Fontsize=18)"
   ]
  },
  {
   "cell_type": "markdown",
   "id": "decfe8f8-6501-4589-ae74-abe11d5111b4",
   "metadata": {},
   "source": [
    "## b) LLE single-stage mixer example setup"
   ]
  },
  {
   "cell_type": "markdown",
   "id": "427b80f2-275e-4d8f-8c77-3899026165a2",
   "metadata": {},
   "source": [
    "<img src=\"figs/Fig-LLE-Mixer.png\" style=\"width:35%\">"
   ]
  },
  {
   "cell_type": "markdown",
   "id": "2feae70c-ec4f-4f5c-99c7-2a0458abd446",
   "metadata": {},
   "source": [
    "See derivation on the board."
   ]
  },
  {
   "cell_type": "code",
   "execution_count": null,
   "id": "b8f4b09c-2af1-4330-837a-92ded3866054",
   "metadata": {},
   "outputs": [],
   "source": []
  }
 ],
 "metadata": {
  "kernelspec": {
   "display_name": "Julia 1.8.0",
   "language": "julia",
   "name": "julia-1.8"
  },
  "language_info": {
   "file_extension": ".jl",
   "mimetype": "application/julia",
   "name": "julia",
   "version": "1.8.0"
  }
 },
 "nbformat": 4,
 "nbformat_minor": 5
}
