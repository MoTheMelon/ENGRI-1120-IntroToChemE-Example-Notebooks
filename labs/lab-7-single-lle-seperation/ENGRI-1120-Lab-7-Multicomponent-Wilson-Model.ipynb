{
 "cells": [
  {
   "cell_type": "markdown",
   "id": "c704f947-a058-45d5-a553-0662d55d2121",
   "metadata": {},
   "source": [
    "### ENGRI 1120 Discussion 7: Calculation of Activity Coefficients for Binary and Multicomponent Liquid Mixtures"
   ]
  },
  {
   "cell_type": "markdown",
   "id": "0dc24071-64fd-40ac-b26e-7081522bf122",
   "metadata": {},
   "source": [
    "#### Introduction\n",
    "When dealing with binary mixtures, we can use the [Two Suffix Margules models](https://en.wikipedia.org/wiki/Margules_activity_model) to estimate the activity coefficients $\\ln\\hat{\\gamma}_{i}$. The $A_{ij}$ parameters in these models are tabulated in reference books for various mixtures. \n",
    "\n",
    "However, in liquid-liquid extraction applications, we have at least three components; solvent 1, solvent 2, and the material dissolved in solvent one that we want to extract. Thus, the tools we developed for binary mixtures, e.g., the two-suffix Margules model, are not applicable. \n",
    "\n",
    "To model multicomponent mixtures, let's use another standard model, the Wilson Model, to compute the activity coefficients. However, that there are also other prominent models, such as the [Non-Random Two Liquid (NRTL)](https://en.wikipedia.org/wiki/Non-random_two-liquid_model) models that are also widely used for multicomponent mixtures."
   ]
  },
  {
   "cell_type": "markdown",
   "id": "fd21c3f7-248a-44f0-a012-321491d26200",
   "metadata": {},
   "source": [
    "#### Multicomponent Wilson Model\n",
    "The excess Gibbs energy for the Wilson Model is given by the expression:\n",
    "\n",
    "$$\n",
    "\\frac{G^{E}}{RT} = -\\sum_{i\\in\\mathcal{M}}x_{i}\\ln\\left(\\sum_{j\\in\\mathcal{M}}x_{j}\\Lambda_{ij}\\right)\n",
    "$$\n",
    "\n",
    "where the interaction term(s) $\\Lambda_{ij}$ are given by:\n",
    "\n",
    "$$\n",
    "\\Lambda_{ij} = \\frac{V_{j}}{V_{i}}\\exp\\left(\\frac{-a_{ij}}{RT}\\right)\n",
    "$$\n",
    "\n",
    "Starting from excess Gibbs energy expression, after some (magical) manipulation, we arrive at an expression for the activity coefficient for component $i$:\n",
    "\n",
    "$$\n",
    "\\displaystyle{\n",
    "\\ln\\hat{\\gamma}_{i} = 1 - \\ln\\left(\\sum_{j\\in\\mathcal{M}}x_{j}\\Lambda_{ij}\\right) - \\sum_{k\\in\\mathcal{M}}\\frac{x_{k}\\Lambda_{ki}}{\\sum_{j\\in\\mathcal{M}}x_{j}\\Lambda_{kj}}}\n",
    "$$\n",
    "\n",
    "where $\\Lambda_{ij} = 1$ for $i=j$"
   ]
  },
  {
   "cell_type": "code",
   "execution_count": null,
   "id": "f6db8e55-2f5a-435b-8560-a8b404ff6475",
   "metadata": {},
   "outputs": [],
   "source": []
  }
 ],
 "metadata": {
  "kernelspec": {
   "display_name": "Julia 1.8.0",
   "language": "julia",
   "name": "julia-1.8"
  },
  "language_info": {
   "file_extension": ".jl",
   "mimetype": "application/julia",
   "name": "julia",
   "version": "1.8.2"
  }
 },
 "nbformat": 4,
 "nbformat_minor": 5
}
