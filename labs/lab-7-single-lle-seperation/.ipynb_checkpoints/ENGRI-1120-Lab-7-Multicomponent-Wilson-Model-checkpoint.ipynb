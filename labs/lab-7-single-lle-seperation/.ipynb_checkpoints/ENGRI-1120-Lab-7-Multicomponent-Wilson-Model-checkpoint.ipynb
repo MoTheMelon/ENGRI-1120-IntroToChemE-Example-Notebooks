{
 "cells": [
  {
   "cell_type": "markdown",
   "id": "c704f947-a058-45d5-a553-0662d55d2121",
   "metadata": {},
   "source": [
    "### ENGRI 1120 Calculation of Activity Coefficients for Binary and Multicomponent Mixtures"
   ]
  },
  {
   "cell_type": "markdown",
   "id": "0dc24071-64fd-40ac-b26e-7081522bf122",
   "metadata": {},
   "source": [
    "In liquid-liquid extraction applications we have at least three components; solvant 1, solvant 2 and the material dissolved in solvant 1 that we want to extract. Thus, the tools that we developed for binary mixtures, e.g., the two-suffix Margules model are not applicable. \n",
    "\n",
    "To model multicomponent mixtures, let's use another common model, the Wilson Model, to compute the activity coefficients. Note, that there are also other promonant models such as the [Non-Random Two Liquid (NRTL)](https://en.wikipedia.org/wiki/Non-random_two-liquid_model) models that are also widely used for multicomponent mixtures."
   ]
  },
  {
   "cell_type": "code",
   "execution_count": null,
   "id": "e1a15215-f263-476a-8ef7-e1cf68eaeb73",
   "metadata": {},
   "outputs": [],
   "source": []
  }
 ],
 "metadata": {
  "kernelspec": {
   "display_name": "Julia 1.8.0",
   "language": "julia",
   "name": "julia-1.8"
  },
  "language_info": {
   "file_extension": ".jl",
   "mimetype": "application/julia",
   "name": "julia",
   "version": "1.8.2"
  }
 },
 "nbformat": 4,
 "nbformat_minor": 5
}
