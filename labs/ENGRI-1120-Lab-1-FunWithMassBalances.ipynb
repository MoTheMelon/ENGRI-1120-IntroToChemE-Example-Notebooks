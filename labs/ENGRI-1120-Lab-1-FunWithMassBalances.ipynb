{
 "cells": [
  {
   "cell_type": "markdown",
   "id": "146bccef-a539-4a36-a28e-b2edf2c7e33b",
   "metadata": {
    "tags": []
   },
   "source": [
    "# ENGRI 1120 Discussion 1: Fun With Total and Species Mass Balances"
   ]
  },
  {
   "cell_type": "markdown",
   "id": "4a6c5dd2-079e-42b3-a0a4-51641d13b82a",
   "metadata": {
    "tags": []
   },
   "source": [
    "## Introduction\n"
   ]
  },
  {
   "cell_type": "code",
   "execution_count": null,
   "id": "1adb9dcb-9752-4bc4-84c0-c5d6cdd442e7",
   "metadata": {},
   "outputs": [],
   "source": []
  }
 ],
 "metadata": {
  "kernelspec": {
   "display_name": "Julia 1.8.0",
   "language": "julia",
   "name": "julia-1.8"
  },
  "language_info": {
   "file_extension": ".jl",
   "mimetype": "application/julia",
   "name": "julia",
   "version": "1.8.0"
  }
 },
 "nbformat": 4,
 "nbformat_minor": 5
}
