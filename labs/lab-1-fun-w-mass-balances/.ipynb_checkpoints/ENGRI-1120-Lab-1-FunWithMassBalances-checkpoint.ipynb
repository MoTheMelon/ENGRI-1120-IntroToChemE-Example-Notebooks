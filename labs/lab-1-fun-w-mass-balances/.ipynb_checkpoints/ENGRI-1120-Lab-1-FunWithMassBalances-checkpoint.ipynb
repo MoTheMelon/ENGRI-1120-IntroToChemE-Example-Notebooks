{
 "cells": [
  {
   "cell_type": "markdown",
   "id": "146bccef-a539-4a36-a28e-b2edf2c7e33b",
   "metadata": {
    "tags": []
   },
   "source": [
    "# ENGRI 1120 Discussion 1: Fun With Total and Species Mass Balances"
   ]
  },
  {
   "cell_type": "markdown",
   "id": "c95a299e-235b-4967-85be-22441c27b172",
   "metadata": {
    "tags": []
   },
   "source": [
    "## Introduction\n",
    "Suppose we interested in tracking the mass of each chemical component in a mixture of $\\mathcal{M}$ components for a chemical reaction process e.g., the starting material, the final product and perhaps some by-products flowing into and from a chemical reactor unit. Then, we can write the _species mass balance_ for component $i$ as:\n",
    "\n",
    "$$\\sum_{s\\in\\mathcal{S}}\\nu_{s}\\dot{m}_{s,i} + \\dot{m}_{G,i} = \\frac{dm_{i}}{dt}\\qquad{i=1,2,\\dots,\\mathcal{M}}$$\n",
    "\n",
    "where $\\mathcal{S}$ denotes the set of streams associated with the chemical reactor unit, $\\dot{m}_{s,i}$ denotes the mass flow rate of component $i$ in stream $s$ (units: kg per hour), $\\dot{m}_{G,i}$ denotes the generation rate for species $i$ (units: kg per hour) and $\\nu_{s}$ denotes the stream direction paramater."
   ]
  },
  {
   "cell_type": "code",
   "execution_count": 1,
   "id": "1adb9dcb-9752-4bc4-84c0-c5d6cdd442e7",
   "metadata": {},
   "outputs": [
    {
     "ename": "LoadError",
     "evalue": "ArgumentError: Package JLD2 not found in current path.\n- Run `import Pkg; Pkg.add(\"JLD2\")` to install the JLD2 package.",
     "output_type": "error",
     "traceback": [
      "ArgumentError: Package JLD2 not found in current path.\n- Run `import Pkg; Pkg.add(\"JLD2\")` to install the JLD2 package.",
      "",
      "Stacktrace:",
      " [1] macro expansion",
      "   @ ./loading.jl:1163 [inlined]",
      " [2] macro expansion",
      "   @ ./lock.jl:223 [inlined]",
      " [3] require(into::Module, mod::Symbol)",
      "   @ Base ./loading.jl:1144",
      " [4] eval",
      "   @ ./boot.jl:368 [inlined]",
      " [5] include_string(mapexpr::typeof(REPL.softscope), mod::Module, code::String, filename::String)",
      "   @ Base ./loading.jl:1428"
     ]
    }
   ],
   "source": [
    "# Setup My Julia Environment\n",
    "import Pkg\n"
   ]
  },
  {
   "cell_type": "code",
   "execution_count": null,
   "id": "5ea5d189-c4e2-4ff7-9ec5-0e58f094d49e",
   "metadata": {},
   "outputs": [],
   "source": []
  }
 ],
 "metadata": {
  "kernelspec": {
   "display_name": "Julia 1.8.0",
   "language": "julia",
   "name": "julia-1.8"
  },
  "language_info": {
   "file_extension": ".jl",
   "mimetype": "application/julia",
   "name": "julia",
   "version": "1.8.0"
  }
 },
 "nbformat": 4,
 "nbformat_minor": 5
}
