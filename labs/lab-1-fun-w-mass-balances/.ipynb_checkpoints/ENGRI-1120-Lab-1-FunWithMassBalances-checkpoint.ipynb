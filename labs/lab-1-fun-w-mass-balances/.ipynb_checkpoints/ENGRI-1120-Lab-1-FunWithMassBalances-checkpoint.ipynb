{
 "cells": [
  {
   "cell_type": "markdown",
   "id": "146bccef-a539-4a36-a28e-b2edf2c7e33b",
   "metadata": {
    "tags": []
   },
   "source": [
    "# ENGRI 1120 Discussion 1: Fun With Total and Species Mass Balances"
   ]
  },
  {
   "cell_type": "markdown",
   "id": "c95a299e-235b-4967-85be-22441c27b172",
   "metadata": {
    "tags": []
   },
   "source": [
    "## Introduction\n",
    "Suppose we interested in tracking the mass of each chemical component in a mixture of $\\mathcal{M}$ components for a chemical reaction process e.g., the starting material, the final product and perhaps some by-products flowing into and from a chemical reactor unit. Then, we can write the _species mass balance_ for component $i$ as:\n",
    "\n",
    "$$\\sum_{s\\in\\mathcal{S}}\\nu_{s}\\dot{m}_{s,i} + \\dot{m}_{G,i} = \\frac{dm_{i}}{dt}\\qquad{i=1,2,\\dots,\\mathcal{M}}$$\n",
    "\n",
    "where $\\mathcal{S}$ denotes the set of streams associated with the chemical reactor unit, $\\dot{m}_{s,i}$ denotes the mass flow rate of component $i$ in stream $s$ (units: kg per hour), $\\dot{m}_{G,i}$ denotes the generation rate for species $i$ (units: kg per hour) and $\\nu_{s}$ denotes the stream direction paramater."
   ]
  },
  {
   "cell_type": "markdown",
   "id": "0df5f69b-2469-4a27-b44f-dca4d916722c",
   "metadata": {},
   "source": [
    "## Materials and Methods"
   ]
  },
  {
   "cell_type": "markdown",
   "id": "6d2a7bff-6368-40cc-a2bf-4fba21f0fd13",
   "metadata": {},
   "source": [
    "#### Project setup"
   ]
  },
  {
   "cell_type": "code",
   "execution_count": 1,
   "id": "fdac3730-edc8-4d79-8f3b-0badc26c9880",
   "metadata": {},
   "outputs": [
    {
     "name": "stderr",
     "output_type": "stream",
     "text": [
      "\u001b[32m\u001b[1m  Activating\u001b[22m\u001b[39m project at `~/Desktop/julia_work/ENGRI-1120-IntroToChemE-Example-Notebooks/labs/lab-1-fun-w-mass-balances`\n",
      "\u001b[32m\u001b[1m  No Changes\u001b[22m\u001b[39m to `~/Desktop/julia_work/ENGRI-1120-IntroToChemE-Example-Notebooks/labs/lab-1-fun-w-mass-balances/Project.toml`\n",
      "\u001b[32m\u001b[1m  No Changes\u001b[22m\u001b[39m to `~/Desktop/julia_work/ENGRI-1120-IntroToChemE-Example-Notebooks/labs/lab-1-fun-w-mass-balances/Manifest.toml`\n"
     ]
    }
   ],
   "source": [
    "import Pkg; Pkg.activate(\".\"); Pkg.resolve(); Pkg.instantiate();"
   ]
  },
  {
   "cell_type": "code",
   "execution_count": 2,
   "id": "5720216a-a13d-4563-b888-182b32296d37",
   "metadata": {},
   "outputs": [],
   "source": [
    "using Distributions\n",
    "using TOML"
   ]
  },
  {
   "cell_type": "markdown",
   "id": "8a37cd2d-cf60-40a2-9a42-ead375edb59b",
   "metadata": {
    "tags": []
   },
   "source": [
    "#### Load Julia code library"
   ]
  },
  {
   "cell_type": "code",
   "execution_count": 3,
   "id": "f95e47f4-9a39-485f-b1ea-4a1038e60146",
   "metadata": {},
   "outputs": [],
   "source": [
    "include(\"ENGRI-1120-Lab-1-CodeLib.jl\"); # this call loads functions into the notebook so that we can use them"
   ]
  },
  {
   "cell_type": "markdown",
   "id": "795b6823-fe49-4d2e-9bcc-6101f25e0a10",
   "metadata": {
    "tags": []
   },
   "source": [
    "#### Example: solve the dynamic system of species mass balances\n",
    "The simulation details are stored in a [TOML](https://toml.io/en/) file in the `configuration` directory. The configuration file holds information about the rate and composition of the feed coming into the mixing unit and some other parameters that are required for the mixing simulation. \n",
    "\n",
    "To load the configuration file:\n",
    "* Specify the path to the configuration file using the `joinpath` command\n",
    "* Pass this path to the `build_config` command (loaded from `ENGRI-1120-Lab-1-CodeLib.jl`) which parses the [TOML](https://toml.io/en/) file, and returns a [Julia Dictionary](https://docs.julialang.org/en/v1/base/collections/#Base.Dict) holding information about the simulation."
   ]
  },
  {
   "cell_type": "code",
   "execution_count": 5,
   "id": "b93257f9-86d5-4e9a-bc5c-837b846ff7ff",
   "metadata": {},
   "outputs": [],
   "source": [
    "# Setup the path to the file we want to load -\n",
    "path_to_config_file = joinpath(pwd(), \"configuration\", \"Example-Tank.toml\")\n",
    "\n",
    "# load the config file with simulation details -\n",
    "config_dict = build_config(path_to_config_file);"
   ]
  },
  {
   "cell_type": "markdown",
   "id": "ad5ec538-1fe0-4069-9869-eac6252f8ac2",
   "metadata": {},
   "source": [
    "The species mass balance equations are solved using the `simulate_species_mass_balances` function (loaded from `ENGRI-1120-Lab-1-CodeLib.jl`). This function takes the configuration dictionary and returns the time array `T` and the state array `X`.  "
   ]
  },
  {
   "cell_type": "code",
   "execution_count": 6,
   "id": "5893b2c8-18ae-4667-a231-d1d9ee8d6165",
   "metadata": {},
   "outputs": [],
   "source": [
    "(T,X) = simulate_species_mass_balances(config_dict; σ = 0.0); # solve the species balances, with no process noise"
   ]
  },
  {
   "cell_type": "markdown",
   "id": "62fccb39-62dc-4714-9a46-daefe2ca8d02",
   "metadata": {},
   "source": [
    "## Problems"
   ]
  },
  {
   "cell_type": "markdown",
   "id": "16fcf3ba-229a-431f-9905-2ac2fd92f8b6",
   "metadata": {
    "tags": []
   },
   "source": [
    "### A) How long does it take the system to reach steady state?"
   ]
  },
  {
   "cell_type": "markdown",
   "id": "370c6ddf-7e17-4ecf-b2a2-f6882610f2a2",
   "metadata": {},
   "source": [
    "### B) At steady state, is conservation of mass true?"
   ]
  },
  {
   "cell_type": "markdown",
   "id": "ccc3c168-2d40-4392-b65f-f39b6c07f62e",
   "metadata": {},
   "source": [
    "### C) The client wants a different mixing ratio, how can we do that?"
   ]
  },
  {
   "cell_type": "code",
   "execution_count": null,
   "id": "f557444d-acd9-417f-bd7d-4fa58849b1bb",
   "metadata": {},
   "outputs": [],
   "source": []
  }
 ],
 "metadata": {
  "kernelspec": {
   "display_name": "Julia 1.8.0",
   "language": "julia",
   "name": "julia-1.8"
  },
  "language_info": {
   "file_extension": ".jl",
   "mimetype": "application/julia",
   "name": "julia",
   "version": "1.8.0"
  }
 },
 "nbformat": 4,
 "nbformat_minor": 5
}
