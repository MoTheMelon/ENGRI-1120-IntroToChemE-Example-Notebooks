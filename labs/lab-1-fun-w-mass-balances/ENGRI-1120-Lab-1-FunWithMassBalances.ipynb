{
 "cells": [
  {
   "cell_type": "markdown",
   "id": "146bccef-a539-4a36-a28e-b2edf2c7e33b",
   "metadata": {
    "tags": []
   },
   "source": [
    "# ENGRI 1120 Discussion 1: Fun With Total and Species Mass Balances"
   ]
  },
  {
   "cell_type": "markdown",
   "id": "c95a299e-235b-4967-85be-22441c27b172",
   "metadata": {
    "tags": []
   },
   "source": [
    "## Introduction\n",
    "Suppose we interested in tracking the mass of each chemical component in a mixture of $\\mathcal{M}$ components for a chemical reaction process e.g., the starting material, the final product and perhaps some by-products flowing into and from a chemical reactor unit. Then, we can write the _species mass balance_ for component $i$ as:\n",
    "\n",
    "$$\\sum_{s\\in\\mathcal{S}}\\nu_{s}\\dot{m}_{s,i} + \\dot{m}_{G,i} = \\frac{dm_{i}}{dt}\\qquad{i=1,2,\\dots,\\mathcal{M}}$$\n",
    "\n",
    "where $\\mathcal{S}$ denotes the set of streams associated with the chemical reactor unit, $\\dot{m}_{s,i}$ denotes the mass flow rate of component $i$ in stream $s$ (units: kg per hour), $\\dot{m}_{G,i}$ denotes the generation rate for species $i$ (units: kg per hour) and $\\nu_{s}$ denotes the stream direction paramater."
   ]
  },
  {
   "cell_type": "markdown",
   "id": "0df5f69b-2469-4a27-b44f-dca4d916722c",
   "metadata": {},
   "source": [
    "## Materials and Methods"
   ]
  },
  {
   "cell_type": "code",
   "execution_count": 7,
   "id": "1adb9dcb-9752-4bc4-84c0-c5d6cdd442e7",
   "metadata": {},
   "outputs": [
    {
     "name": "stderr",
     "output_type": "stream",
     "text": [
      "\u001b[32m\u001b[1m   Resolving\u001b[22m\u001b[39m package versions...\n",
      "\u001b[32m\u001b[1m  No Changes\u001b[22m\u001b[39m to `~/Desktop/julia_work/ENGRI-1120-IntroToChemE-Example-Notebooks/Project.toml`\n",
      "\u001b[32m\u001b[1m  No Changes\u001b[22m\u001b[39m to `~/Desktop/julia_work/ENGRI-1120-IntroToChemE-Example-Notebooks/Manifest.toml`\n",
      "\u001b[32m\u001b[1m   Resolving\u001b[22m\u001b[39m package versions...\n",
      "\u001b[32m\u001b[1m  No Changes\u001b[22m\u001b[39m to `~/Desktop/julia_work/ENGRI-1120-IntroToChemE-Example-Notebooks/Project.toml`\n",
      "\u001b[32m\u001b[1m  No Changes\u001b[22m\u001b[39m to `~/Desktop/julia_work/ENGRI-1120-IntroToChemE-Example-Notebooks/Manifest.toml`\n"
     ]
    }
   ],
   "source": [
    "# Setup My Julia Environment - add packages\n",
    "import Pkg\n",
    "Pkg.add(\"TOML\")\n",
    "Pkg.add(\"Distributions\")"
   ]
  },
  {
   "cell_type": "code",
   "execution_count": 5,
   "id": "331cc932-1596-4021-904c-aeb0b87661b3",
   "metadata": {},
   "outputs": [
    {
     "name": "stderr",
     "output_type": "stream",
     "text": [
      "┌ Info: Precompiling Distributions [31c24e10-a181-5473-b8eb-7969acd0382f]\n",
      "└ @ Base loading.jl:1662\n"
     ]
    }
   ],
   "source": [
    "# import packages that we need -\n",
    "using JLD2\n",
    "using TOML\n",
    "using Distributions"
   ]
  },
  {
   "cell_type": "code",
   "execution_count": 8,
   "id": "b879ffe7-d8e2-4f68-892b-8b95c3dce192",
   "metadata": {},
   "outputs": [
    {
     "data": {
      "text/plain": [
       "simulate_species_mass_balances (generic function with 1 method)"
      ]
     },
     "execution_count": 8,
     "metadata": {},
     "output_type": "execute_result"
    }
   ],
   "source": [
    "function simulate_species_mass_balances(config::Dict{String,Any}; σ::Float64 = 0.0) \n",
    "    \n",
    "    # setup:\n",
    "    # we have a mixing process\n",
    "    # two streams in (A, B), one stream out (A+B)\n",
    "\n",
    "    # setup the simulation parameters -\n",
    "    T₀ = config[\"simulation\"][\"T1\"]              # initial time\n",
    "    T₁ = config[\"simulation\"][\"T2\"]              # final time (units: hr)\n",
    "    h = config[\"simulation\"][\"h\"]                # timestep units: hr (equiv to 1 min)\n",
    "    T = range(T₀, stop=T₁, step=h) |> collect    # simulation time range\n",
    "    Z = Normal(0.0, 1.0)\n",
    "\n",
    "    # how many states?\n",
    "    ℳ = config[\"parameters\"][\"M\"]\n",
    "\n",
    "    # how many steps?\n",
    "    ℒ = length(T)\n",
    "    X = zeros(ℒ, ℳ)\n",
    "\n",
    "    # setup the input and outputs -\n",
    "    ṁ₁ = config[\"parameters\"][\"m_dot_in_1\"]     # total mass flow rate stream 1 (units: kg/hr)\n",
    "    ṁ₂ = config[\"parameters\"][\"m_dot_in_2\"]     # total mass flow rate stream 2 (units: kg/hr)\n",
    "\n",
    "    # mass fractions for the input streams \n",
    "    w_in_1 = config[\"parameters\"][\"w_in_1\"]     # stream 1\n",
    "    w_in_2 = config[\"parameters\"][\"w_in_2\"]     # stream 2\n",
    "\n",
    "    # κ value -\n",
    "    κ = config[\"parameters\"][\"kappa\"]\n",
    "\n",
    "    # main loop -\n",
    "    for t ∈ 1:(ℒ-1)\n",
    "        for state = 1:ℳ\n",
    "\n",
    "            # compute ṁ₃ -\n",
    "            ṁ₃_i = κ * X[t, state]\n",
    "\n",
    "            # update the state array -\n",
    "            X[t+1, state] = X[t, state] + h * (ṁ₁ * w_in_1[state] + ṁ₂ * w_in_2[state] - ṁ₃_i) + σ * sqrt(h) * rand(Z)\n",
    "        end\n",
    "    end\n",
    "\n",
    "    # return -\n",
    "    return (T, X)\n",
    "end"
   ]
  },
  {
   "cell_type": "markdown",
   "id": "62fccb39-62dc-4714-9a46-daefe2ca8d02",
   "metadata": {},
   "source": [
    "## Problems"
   ]
  },
  {
   "cell_type": "markdown",
   "id": "16fcf3ba-229a-431f-9905-2ac2fd92f8b6",
   "metadata": {
    "tags": []
   },
   "source": [
    "### A) How long does it take the system to reach steady state?"
   ]
  },
  {
   "cell_type": "markdown",
   "id": "370c6ddf-7e17-4ecf-b2a2-f6882610f2a2",
   "metadata": {},
   "source": [
    "### B) At steady state, is conservation of mass true?"
   ]
  },
  {
   "cell_type": "markdown",
   "id": "ccc3c168-2d40-4392-b65f-f39b6c07f62e",
   "metadata": {},
   "source": [
    "### C) The client wants a different mixing ratio, how can we do that?"
   ]
  },
  {
   "cell_type": "code",
   "execution_count": null,
   "id": "f557444d-acd9-417f-bd7d-4fa58849b1bb",
   "metadata": {},
   "outputs": [],
   "source": []
  }
 ],
 "metadata": {
  "kernelspec": {
   "display_name": "Julia 1.8.0",
   "language": "julia",
   "name": "julia-1.8"
  },
  "language_info": {
   "file_extension": ".jl",
   "mimetype": "application/julia",
   "name": "julia",
   "version": "1.8.0"
  }
 },
 "nbformat": 4,
 "nbformat_minor": 5
}
