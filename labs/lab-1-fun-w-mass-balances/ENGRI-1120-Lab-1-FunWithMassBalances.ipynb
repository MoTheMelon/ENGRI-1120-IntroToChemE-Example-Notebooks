{
 "cells": [
  {
   "cell_type": "markdown",
   "id": "146bccef-a539-4a36-a28e-b2edf2c7e33b",
   "metadata": {
    "tags": []
   },
   "source": [
    "# ENGRI 1120 Discussion 1: Fun With Total and Species Mass Balances"
   ]
  },
  {
   "cell_type": "markdown",
   "id": "c95a299e-235b-4967-85be-22441c27b172",
   "metadata": {
    "tags": []
   },
   "source": [
    "## Introduction\n",
    "Suppose we are interested in tracking the mass fraction of each of the chemical components in the species set $\\mathcal{M}$ for a mixing process, e.g., different component streams flow into a mixing unit, and a blended stream exits the unit. Then, we can write the _species mass balance_ for component $i$ in the mixing unit as:\n",
    "\n",
    "$$\\sum_{s\\in\\mathcal{S}}\\nu_{s}\\dot{m}_{s,i} + \\dot{m}_{G,i} = \\frac{dm_{i}}{dt}\\qquad{i\\in\\mathcal{M}}$$\n",
    "\n",
    "where $m_{i}$ denotes the mass of species $i$ (units: kg), $\\mathcal{S}$ denotes the set of streams associated with the mixing unit, $\\dot{m}_{s,i}$ denotes the mass flow rate of component $i$ in stream $s$ (units: kg i per hour), $\\dot{m}_{G,i}$ denotes the generation rate for species $i$ (units: kg i per hour) and $\\nu_{s}$ denotes the stream direction parameter. \n",
    "\n",
    "__Assumptions__:\n",
    "1. Three _non-reactive_ chemical species, A, B, and C, are present in the system; thus, the species set is given by $\\mathcal{M}=\\left\\{A,B,C\\right\\}$\n",
    "1. Two input streams enter the mixing unit, while a single output stream exits the unit; $w_{i,s}$ denotes the mass fraction of chemical component $i$ in stream $s$ and the stream set is given by $\\mathcal{S} = \\left\\{1,2,3\\right\\}$ where $s=1,2$ are input streams and $s=3$ is an output stream. \n",
    "1. The flow rate of component $i$ in the exit stream ($s=3$) is given by: $\\dot{m}_{3,i} = \\kappa{m_{i}}$, where $\\kappa$ denotes a parameter (given in the problem)\n",
    "1. The mixing unit starts empty; thus $m_{i}\\left(t_{o}\\right) = 0~\\forall{i}$."
   ]
  },
  {
   "cell_type": "markdown",
   "id": "0df5f69b-2469-4a27-b44f-dca4d916722c",
   "metadata": {
    "tags": []
   },
   "source": [
    "## Materials and Methods"
   ]
  },
  {
   "cell_type": "markdown",
   "id": "6d2a7bff-6368-40cc-a2bf-4fba21f0fd13",
   "metadata": {},
   "source": [
    "### Project setup\n",
    "The code block below installs (and loads) [Julia](https://julialang.org) packages that we use to solve the species mass balance equations. "
   ]
  },
  {
   "cell_type": "code",
   "execution_count": null,
   "id": "fdac3730-edc8-4d79-8f3b-0badc26c9880",
   "metadata": {},
   "outputs": [],
   "source": [
    "import Pkg; Pkg.activate(\".\"); Pkg.resolve(); Pkg.instantiate();"
   ]
  },
  {
   "cell_type": "code",
   "execution_count": null,
   "id": "5720216a-a13d-4563-b888-182b32296d37",
   "metadata": {},
   "outputs": [],
   "source": [
    "using Distributions\n",
    "using TOML\n",
    "using Plots\n",
    "using Colors"
   ]
  },
  {
   "cell_type": "markdown",
   "id": "8a37cd2d-cf60-40a2-9a42-ead375edb59b",
   "metadata": {
    "tags": []
   },
   "source": [
    "### Load the Lab 1 code library\n",
    "The call to the `include` function loads the `ENGRI-1120-Lab-1-CodeLib.jl` library into the notebook; the library contains functions that we can use during the lab. In particular:\n",
    "\n",
    "* The `simulate_species_mass_balances` function takes configuration information, solves the species mass balances, and returns the solution\n",
    "* The `simulate_total_mass_balances` function takes configuration information, solves the total mass balances, and returns the solution\n",
    "* the `build_config` function takes a `path` string, and returns the configuration dictionary"
   ]
  },
  {
   "cell_type": "code",
   "execution_count": null,
   "id": "f95e47f4-9a39-485f-b1ea-4a1038e60146",
   "metadata": {},
   "outputs": [],
   "source": [
    "include(\"ENGRI-1120-Lab-1-CodeLib.jl\"); "
   ]
  },
  {
   "cell_type": "markdown",
   "id": "795b6823-fe49-4d2e-9bcc-6101f25e0a10",
   "metadata": {
    "tags": []
   },
   "source": [
    "#### Example: solve the dynamic system of species mass balances\n",
    "The simulation details are stored in a [TOML](https://toml.io/en/) file in the `configuration` directory. The configuration file holds information about the rate and composition of the feed coming into the mixing unit and some other parameters that are required for the mixing simulation. \n",
    "\n",
    "To load the configuration file:\n",
    "* Specify the path to the configuration file using the `joinpath` command\n",
    "* Pass this path to the `build_config` command (loaded from `ENGRI-1120-Lab-1-CodeLib.jl`) which parses the [TOML](https://toml.io/en/) file, and returns a [Julia Dictionary](https://docs.julialang.org/en/v1/base/collections/#Base.Dict) holding information about the simulation."
   ]
  },
  {
   "cell_type": "code",
   "execution_count": null,
   "id": "b93257f9-86d5-4e9a-bc5c-837b846ff7ff",
   "metadata": {},
   "outputs": [],
   "source": [
    "# Setup the path to the file we want to load -\n",
    "path_to_config_file = joinpath(pwd(), \"configuration\", \"Example-Tank.toml\")\n",
    "\n",
    "# load the config file with simulation details -\n",
    "config_dict = build_config(path_to_config_file);"
   ]
  },
  {
   "cell_type": "markdown",
   "id": "ad5ec538-1fe0-4069-9869-eac6252f8ac2",
   "metadata": {},
   "source": [
    "The species mass balance equations are solved using the `simulate_species_mass_balances` function (loaded from `ENGRI-1120-Lab-1-CodeLib.jl`). This function takes the configuration dictionary and returns the time array `T` which has dimension number of timesteps $\\times$ 1, and the state array `X` which has dimension number of timesteps $\\times$ 3."
   ]
  },
  {
   "cell_type": "code",
   "execution_count": null,
   "id": "5893b2c8-18ae-4667-a231-d1d9ee8d6165",
   "metadata": {},
   "outputs": [],
   "source": [
    "(T₁,X₁) = simulate_species_mass_balances(config_dict; σ = 0.0); # solve the species balances, with no process noise\n",
    "(T₂,X₂) = simulate_species_mass_balances(config_dict; σ = 0.5); # solve the species balances, with process noise"
   ]
  },
  {
   "cell_type": "code",
   "execution_count": null,
   "id": "21463fe2-5c69-4e2d-94bc-425a479a05ba",
   "metadata": {},
   "outputs": [],
   "source": [
    "# visualize -\n",
    "\n",
    "# no noise - dashes\n",
    "plot(T₁,X₁[:,1],lw=2, label=\"mass of A\", c=colorant\"#EF4035\", legend=:bottomright, ls=:dash)\n",
    "plot!(T₁,X₁[:,2],lw=2, label=\"mass of B\", c=colorant\"#0068AC\", ls=:dash)\n",
    "plot!(T₁,X₁[:,3],lw=2, label=\"mass of C\", c=colorant\"#6EB43F\", ls=:dash)\n",
    "\n",
    "# with noise -\n",
    "plot!(T₂,X₂[:,1],lw=2, label=\"\", c=colorant\"#EF4035\")\n",
    "plot!(T₂,X₂[:,2],lw=2, label=\"\", c=colorant\"#0068AC\")\n",
    "plot!(T₂,X₂[:,3],lw=2, label=\"\", c=colorant\"#6EB43F\")\n",
    "\n",
    "# labels -\n",
    "xlabel!(\"Time (hr)\", fontsize=18)\n",
    "ylabel!(\"Species mass in mixer (kg)\", fontsize=18)"
   ]
  },
  {
   "cell_type": "markdown",
   "id": "62fccb39-62dc-4714-9a46-daefe2ca8d02",
   "metadata": {},
   "source": [
    "## Problems"
   ]
  },
  {
   "cell_type": "markdown",
   "id": "c3eae5ef-8dde-4302-a405-ae20fefab196",
   "metadata": {},
   "source": [
    "Solve the dynamic species mass balance equations for the mixer unit using the system configuration contained in the `SpeciesMassBalances-Mixer.toml` file."
   ]
  },
  {
   "cell_type": "code",
   "execution_count": null,
   "id": "5811f3fc-101c-4de3-9e86-7a360e61d790",
   "metadata": {},
   "outputs": [],
   "source": [
    "# load/parse the configuration file to build the configuration dictionary\n",
    "# Fill me in ...\n"
   ]
  },
  {
   "cell_type": "code",
   "execution_count": null,
   "id": "0353fb91-9e4f-4e77-afeb-e2733a7b46b8",
   "metadata": {},
   "outputs": [],
   "source": [
    "# Solve the species mass balance system of equations using the simulate_species_mass_balances function\n",
    "# Fill me in ...\n"
   ]
  },
  {
   "cell_type": "markdown",
   "id": "69872bc8-397b-4533-ab2d-057139984849",
   "metadata": {},
   "source": [
    "Now that we have the simulation data, let's answer some questions using this "
   ]
  },
  {
   "cell_type": "markdown",
   "id": "16fcf3ba-229a-431f-9905-2ac2fd92f8b6",
   "metadata": {
    "tags": []
   },
   "source": [
    "#### 1) How long does it take for the species mass balances to reach steady state?"
   ]
  },
  {
   "cell_type": "markdown",
   "id": "1a46c7f3-9711-4809-8603-26826b5e7125",
   "metadata": {
    "tags": []
   },
   "source": [
    "__1.1__: Show that the steady state level for species mass for component $i$, denoted by $m^{\\star}_{i}$, given by:\n",
    "\n",
    "$$ m_{i}^{\\star} = \\frac{1}{\\kappa}\\left(\\dot{m}_{1,i}+\\dot{m}_{2,i}\\right)$$\n",
    "\n",
    "Compute the steady state value for $m^{\\star}_{i}$."
   ]
  },
  {
   "cell_type": "code",
   "execution_count": null,
   "id": "97b0e5b6-530f-43ae-b8f5-fc5fb90f97cd",
   "metadata": {},
   "outputs": [],
   "source": [
    "# Compute the steady-state species mass values\n",
    "# Fill me in ..."
   ]
  },
  {
   "cell_type": "markdown",
   "id": "1a1ac9f5-f564-4505-9c0f-a1593cd0526e",
   "metadata": {},
   "source": [
    "__1.2__: Develop an algorithm to _estimate_ the time at which the system reaches steady state, denote this time as $t^{\\star}$. Is $t^{\\star}$ the same time for all members of the species set $\\mathcal{M}$?"
   ]
  },
  {
   "cell_type": "code",
   "execution_count": null,
   "id": "55d4475a-b371-421e-801a-8e3e8d9a6e98",
   "metadata": {},
   "outputs": [],
   "source": [
    "# Estimate t-star for A, B and C\n",
    "# Fill me in ...."
   ]
  },
  {
   "cell_type": "markdown",
   "id": "370c6ddf-7e17-4ecf-b2a2-f6882610f2a2",
   "metadata": {},
   "source": [
    "#### 2) Is the conservation of total mass true at steady state? \n",
    "__2.1__: Solve the total mass system using the system configuration contained in the `TotalMassBalance-Mixer.toml` file. "
   ]
  },
  {
   "cell_type": "code",
   "execution_count": null,
   "id": "cf907257-eb1a-48eb-91ed-4a6b0ba4499a",
   "metadata": {},
   "outputs": [],
   "source": [
    "# load/parse the configuration file to build the configuration dictionary\n",
    "# Fill me in ...\n"
   ]
  },
  {
   "cell_type": "code",
   "execution_count": null,
   "id": "43cb091c-f934-49a3-afca-9aa4462c0237",
   "metadata": {
    "tags": []
   },
   "outputs": [],
   "source": [
    "# Solve the total mass balance system of equations using the simulate_total_mass_balances function\n",
    "# Fill me in ...\n"
   ]
  },
  {
   "cell_type": "markdown",
   "id": "6a96ac03-c71f-4fc0-9726-8150106461dc",
   "metadata": {},
   "source": [
    "__2.2__: Test the conservation of mass principle using the solution of the total mass balance at steady state. "
   ]
  },
  {
   "cell_type": "code",
   "execution_count": null,
   "id": "3a117057-aab7-4511-8320-0939ed589e52",
   "metadata": {},
   "outputs": [],
   "source": [
    "# Fill me in"
   ]
  },
  {
   "cell_type": "markdown",
   "id": "ccc3c168-2d40-4392-b65f-f39b6c07f62e",
   "metadata": {},
   "source": [
    "#### 3) Compute the steady state composition (mass fraction of A, B and C) of the blended exit stream"
   ]
  },
  {
   "cell_type": "code",
   "execution_count": null,
   "id": "4cf33ca9-bb10-4922-98dd-7c7ac7441939",
   "metadata": {},
   "outputs": [],
   "source": [
    "# Fill me in ..."
   ]
  },
  {
   "cell_type": "code",
   "execution_count": null,
   "id": "275cb826-c74c-4f50-abd8-42a092fb1db3",
   "metadata": {},
   "outputs": [],
   "source": []
  }
 ],
 "metadata": {
  "kernelspec": {
   "display_name": "Julia 1.8.0",
   "language": "julia",
   "name": "julia-1.8"
  },
  "language_info": {
   "file_extension": ".jl",
   "mimetype": "application/julia",
   "name": "julia",
   "version": "1.8.0"
  }
 },
 "nbformat": 4,
 "nbformat_minor": 5
}
