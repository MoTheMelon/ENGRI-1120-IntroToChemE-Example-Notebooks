{
 "cells": [
  {
   "cell_type": "markdown",
   "id": "e90bafd1-2c39-4727-9851-29bac5ab12bd",
   "metadata": {},
   "source": [
    "## Using Flux Balance Analysis to Compute the Open Extent of Reaction and Fractional Conversion"
   ]
  },
  {
   "cell_type": "markdown",
   "id": "09a866bd-c635-4783-adc9-2ce72bf53502",
   "metadata": {},
   "source": [
    "<figure>\n",
    "<img src=\"figs/Fig-FBA-ToyNetwork.pdf\" style=\"width:40%\">\n",
    "</figure>"
   ]
  },
  {
   "cell_type": "markdown",
   "id": "be33fff2-9214-4ee9-80af-3d1c99280ca1",
   "metadata": {},
   "source": [
    "__Fig 1__. The starting compound $A_{1}$ is converted to the desired product $P$ through an intermediate $B$. The conversion of $A_{1}$ to $B$ requires the cofactor $x$. The cofactor $x$ can be recycled by converting $A_{2}$ to the by-product $C$."
   ]
  },
  {
   "cell_type": "markdown",
   "id": "7edc906a-4c53-45ac-aa40-35181e1f1f6a",
   "metadata": {},
   "source": [
    "### Introduction\n",
    "\n",
    "Suppose we want to produce the desired product product _P_ by converting feedstock A₁ using a cell-free biochemical process operating in a well-mixed continuous microfluidic chip with a two input channles and a single output channel, and a liquid reaction volume of V = 100 μL. The reaction network is shown in Fig 1. \n",
    "\n",
    "All the reactions are enzyme catalyzed and irreversible, where the enzymes are tethered to the chip. The enzymes are present at $E_{\\star}$ = 100.0 $\\mu$mol/L. The $k_{cat}$ values for the enzymes 1, 2 and 3 are 85.7 $\\text{min}^{-1}$, 38.1 $\\text{min}^{-1}$ and 13.7 $\\text{min}^{-1}$, respectively. Stream 1 and stream 2 are powered by syringe pumps that have a maxiumum volumetric flow rate of volumetric flow rate $F_{\\star}$ = 10$\\mu$L/h.\n",
    "\n",
    "__Assumptions__\n",
    "* Microfluidic chip is well-mixed and operates at steady-state\n",
    "* Constant T, P on the chip and the liquid phase is ideal\n",
    "\n",
    "__Compute__\n",
    "* Compute the optimal open extent of reaction $\\dot{\\epsilon}_{i}$, where the objective function is to maximize _P_\n",
    "* Compute the state table for the mol flow rates into and from the chip\n",
    "* Compute the fractional conversion of the feedstock A₁"
   ]
  },
  {
   "cell_type": "markdown",
   "id": "e7ac7d19-9318-4e70-b5c3-7ee1536c2867",
   "metadata": {},
   "source": []
  },
  {
   "cell_type": "code",
   "execution_count": null,
   "id": "80c8bf8c-dc86-4088-b0ee-066ba8a76bed",
   "metadata": {},
   "outputs": [],
   "source": []
  }
 ],
 "metadata": {
  "kernelspec": {
   "display_name": "Julia 1.8.0",
   "language": "julia",
   "name": "julia-1.8"
  },
  "language_info": {
   "file_extension": ".jl",
   "mimetype": "application/julia",
   "name": "julia",
   "version": "1.8.0"
  }
 },
 "nbformat": 4,
 "nbformat_minor": 5
}
