{
 "cells": [
  {
   "cell_type": "markdown",
   "id": "b7e00ba2-7e37-41bd-8386-20bb82a05fbe",
   "metadata": {},
   "source": [
    "## ENGRI 1120: High-Fructose Corn Syrup (HFCS) Process Simulation"
   ]
  },
  {
   "cell_type": "markdown",
   "id": "17e79243-1794-4c58-b2dd-54c20310dd55",
   "metadata": {},
   "source": [
    "### Introduction\n",
    "\n",
    "High Fructose Corn Syrup (HFCS) is a common sweetener in many food products. As a sweetener, HFCS is often compared to granulated table sugar (sucrose is made up of one molecule of glucose and one molecule of fructose); HFCS is easier to handle and cheaper than granulated table sugar. HFCS comes in two varieties, HFCS-42 and HFCS-55. HFCS-42 and HFCS-55 refer to dry-weight fructose compositions of 42% and 55%, respectively, the rest being glucose. HFCS-42 is mainly used for processed foods and breakfast cereals, whereas HFCS-55 is used chiefly for producing soft drinks.\n",
    "\n",
    "### Manufacturing Process\n",
    "Corn is milled to extract corn starch, and an \"acid-enzyme\" process is used, in which the corn-starch solution is acidified to break up the existing carbohydrates. High-temperature enzymes are added to metabolize the starch further and convert the resulting sugars to fructose.\n",
    "The first enzyme, alpha-amylase, breaks the long starch chains down into shorter sugar chains (oligosaccharides). \n",
    "Glucoamylase, a second enzyme, converts the oligosaccharides to glucose (a common six-carbon sugar for biotechnology applications). The resulting solution is filtered to remove protein, then using activated carbon, and then demineralized using ion-exchange resins. \n",
    "\n",
    "The purified solution is then run over immobilized xylose isomerase, which converts the sugars to ~50–52% glucose with some unconverted oligosaccharides and 42% fructose (HFCS-42), and again demineralized and again purified using activated carbon. Some is processed into HFCS-90 by liquid chromatography and then mixed with HFCS-42 to form HFCS-55. The enzymes used in the process are made by microbial fermentation. \n",
    "\n",
    "### Model and Assumptions\n",
    "Let's model the immobilized xylose isomerase step of the HCFS-42 process. Consider a reactor in which enzyme $E$ catalyzes the conversion of some substrate $S$ (starting material) to a product $P$ at a rate $\\hat{r}_{1}$ (units: mmol/L-time). Enzyme $E$, which is not stable, degrades in the reactor at rate $r_{2}$ (units: mmol/L-time). Susbtrate $S$ is introduced into the reactor in stream 1, while enzyme $E$ is introduced in stream 2. Lastly, unreacted subrate $S$, enzyme $E$ and product $P$ leave the reactor in stream 3.\n",
    "\n",
    "Let the concentrations of $S$ be given by $C_{1}$ (units: mmol/L), the enzyme $E$ by $C_{2}$ (units: mmol/L) and the product $P$ by $C_{3}$ (units: mmol/L). Then, the kinetic expression for reaction $\\hat{r}_{1}$ is given by:\n",
    "\n",
    "$$\\hat{r}_{1} = k_{cat}E\\left(\\frac{C_{1}}{K+C_{1}}\\right)$$\n",
    "\n",
    "where $k_{cat}$ denotes the turnover number (catalytic rate constant with units 1/time) for the enzyme $E$ and substate $S$, and $K$ denotes the saturation constant for enzyme $E$ and substrate $S$ (units: concentration). The rate of degradation of enzyme $E$ is assumed to be first-order with rate:\n",
    "\n",
    "$$\\hat{r}_{2} = k_{d}E$$\n",
    "\n",
    "where $k_{d}$ denotes the degradation constant for enzyme $E$ (units: 1/time). \n",
    "\n",
    "__Estimate the composition of stream 3.__\n",
    "\n",
    "#### Assumptions\n",
    "\n",
    "* Reactor is at steady-state and well-mixed\n",
    "* Reactor is at a constant T, P and V\n",
    "* Density of stream 1, 2 and 3 is constant and equal to water at T and P. \n",
    "\n",
    "#### Problem setup\n",
    "The volume of the reactor $V$ = 30$\\mu$L. Stream 1 has a volumetric flow rate $F_{1}$ = 10$\\mu$L/h and Stream 2 has a volumetric flow rate $F_{2}$ = 5$\\mu$L/h. The concentration(s) of susbstrate in the stream 1 is $C_{1,1}$ = 10 mmol/L, enzyme $E$ in stream 2 is $C_{2,2}$ = 2.0 mmol/L. The turnover number of enzyme $E$ is give by $k_{cat}$ = 16.2 s$^{-1}$, the saturation coefficient $K$ = 5 mmol/L and degradation constant $k_{d}$ = 0.1 h$^{-1}$. "
   ]
  },
  {
   "cell_type": "markdown",
   "id": "3b413606-fa88-4715-abff-602a215fc9ff",
   "metadata": {},
   "source": [
    "### Example setup"
   ]
  },
  {
   "cell_type": "code",
   "execution_count": 1,
   "id": "cbec972e-6d10-41ea-96e5-7439d1188b13",
   "metadata": {},
   "outputs": [
    {
     "name": "stderr",
     "output_type": "stream",
     "text": [
      "\u001b[32m\u001b[1m  Activating\u001b[22m\u001b[39m project at `~/Desktop/julia_work/ENGRI-1120-IntroToChemE-Example-Notebooks/notebooks-jupyter/ENGRI-1120-HFCS-Example`\n",
      "\u001b[32m\u001b[1m  No Changes\u001b[22m\u001b[39m to `~/Desktop/julia_work/ENGRI-1120-IntroToChemE-Example-Notebooks/notebooks-jupyter/ENGRI-1120-HFCS-Example/Project.toml`\n",
      "\u001b[32m\u001b[1m  No Changes\u001b[22m\u001b[39m to `~/Desktop/julia_work/ENGRI-1120-IntroToChemE-Example-Notebooks/notebooks-jupyter/ENGRI-1120-HFCS-Example/Manifest.toml`\n"
     ]
    }
   ],
   "source": [
    "import Pkg; Pkg.activate(\".\"); Pkg.resolve(); Pkg.instantiate();"
   ]
  },
  {
   "cell_type": "code",
   "execution_count": 3,
   "id": "7ed40483-65b5-454d-98fe-2c28f18cdf7e",
   "metadata": {},
   "outputs": [],
   "source": [
    "# load req packages -\n",
    "using PrettyTables\n",
    "using LinearAlgebra\n",
    "using Optim\n",
    "\n",
    "# setup paths -\n",
    "const _ROOT = pwd();\n",
    "const _PATH_TO_DATA = joinpath(_ROOT, \"data\");"
   ]
  },
  {
   "cell_type": "markdown",
   "id": "ac43bcc0-9b0d-4c70-8ccd-0809606e4b77",
   "metadata": {},
   "source": [
    "### Steady-state concetration balances"
   ]
  },
  {
   "cell_type": "code",
   "execution_count": null,
   "id": "4b2468b0-1be2-423c-b1cc-1659469a615f",
   "metadata": {},
   "outputs": [],
   "source": []
  }
 ],
 "metadata": {
  "kernelspec": {
   "display_name": "Julia 1.8.0",
   "language": "julia",
   "name": "julia-1.8"
  },
  "language_info": {
   "file_extension": ".jl",
   "mimetype": "application/julia",
   "name": "julia",
   "version": "1.8.2"
  }
 },
 "nbformat": 4,
 "nbformat_minor": 5
}
