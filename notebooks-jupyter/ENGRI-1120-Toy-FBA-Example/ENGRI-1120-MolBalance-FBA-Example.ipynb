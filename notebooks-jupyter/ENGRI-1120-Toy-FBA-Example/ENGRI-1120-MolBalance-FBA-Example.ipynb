{
 "cells": [
  {
   "cell_type": "markdown",
   "id": "88cdb91f-c877-41ea-b6ba-f957db08ae25",
   "metadata": {},
   "source": [
    "## ENGRI 1120 Mole Balance Flux Balance Analysis Example"
   ]
  },
  {
   "cell_type": "markdown",
   "id": "6e022b89-8d8b-41f8-8733-b7b1e13ef2ea",
   "metadata": {},
   "source": [
    "### Introduction\n",
    "\n",
    "Suppose we have an open system with species $\\mathcal{M}$, streams $\\mathcal{S}$ and reactions $\\mathcal{R}$. Further, suppose we partition the stream set $\\mathcal{S}$ into streams entering the system $\\mathcal{S}^{+}$, and streams leaving the system $\\mathcal{S}^{-}$. Then, the steady-state species mole balances are given by:\n",
    "\n",
    "$$\\sum_{s\\in\\mathcal{S}^{+}}\\dot{n}_{si} - \\sum_{k\\in\\mathcal{S}^{-}}\\dot{n}_{ki} + \\sum_{j\\in\\mathcal{R}}\\sigma_{ij}\\dot{\\epsilon}_{j} = 0\\qquad\\forall{i}\\in\\mathcal{M}$$\n",
    "\n",
    "Finally, we know that $\\dot{n}_{i,j}\\geq{0}$ for every $i$ and $j$; species mole flows must be non-negative. Then, the (unknown) open extents $\\dot{\\epsilon}_{j}$ are the solution of a linear programming problem in which the linear objective $\\mathcal{O}$:\n",
    "\n",
    "$$\\text{maximize/minimize}~\\mathcal{O} = \\sum_{j\\in\\mathcal{R}}c_{j}\\dot{\\epsilon}_{j}$$\n",
    "\n",
    "is minimized (or maximized) subject to a collection linear and bounds constraints:\n",
    "\n",
    "$$\\begin{eqnarray}\n",
    "\\sum_{j\\in\\mathcal{R}}\\sigma_{ij}\\dot{\\epsilon}_{j}&\\geq&{-\\sum_{s\\in\\mathcal{S}^{+}}\\dot{n}_{si}}\\qquad\\forall{i}\\in\\mathcal{M}\\\\\n",
    "\\mathcal{L}_{j}&\\leq\\dot{\\epsilon}_{j}\\leq&\\mathcal{U}_{j}\\qquad\\forall{j}\\in\\mathcal{R}\n",
    "\\end{eqnarray}$$"
   ]
  },
  {
   "cell_type": "markdown",
   "id": "a9327234-80d2-462c-8c41-0128e722ba77",
   "metadata": {},
   "source": [
    "### Problem\n",
    "Fill me in"
   ]
  },
  {
   "cell_type": "markdown",
   "id": "a5b0618e-73f2-4a38-9edb-be458887efce",
   "metadata": {},
   "source": [
    "### Example setup"
   ]
  },
  {
   "cell_type": "code",
   "execution_count": 1,
   "id": "ed88b771-179a-4bab-ac55-db6bff482488",
   "metadata": {},
   "outputs": [
    {
     "name": "stderr",
     "output_type": "stream",
     "text": [
      "\u001b[32m\u001b[1m  Activating\u001b[22m\u001b[39m project at `~/Desktop/julia_work/ENGRI-1120-IntroToChemE-Example-Notebooks/notebooks-jupyter/ENGRI-1120-Toy-FBA-Example`\n",
      "\u001b[32m\u001b[1m  No Changes\u001b[22m\u001b[39m to `~/Desktop/julia_work/ENGRI-1120-IntroToChemE-Example-Notebooks/notebooks-jupyter/ENGRI-1120-Toy-FBA-Example/Project.toml`\n",
      "\u001b[32m\u001b[1m  No Changes\u001b[22m\u001b[39m to `~/Desktop/julia_work/ENGRI-1120-IntroToChemE-Example-Notebooks/notebooks-jupyter/ENGRI-1120-Toy-FBA-Example/Manifest.toml`\n"
     ]
    }
   ],
   "source": [
    "import Pkg; Pkg.activate(\".\"); Pkg.resolve(); Pkg.instantiate();"
   ]
  },
  {
   "cell_type": "code",
   "execution_count": null,
   "id": "8649a279-3b88-4ed8-ac86-1680f799e348",
   "metadata": {},
   "outputs": [],
   "source": [
    "# load reqd packages and set paths -\n",
    "using PrettyTables\n",
    "using GLPK\n",
    "\n",
    "# setup paths -\n",
    "const _ROOT = pwd();"
   ]
  },
  {
   "cell_type": "code",
   "execution_count": null,
   "id": "24bcb148-5546-4fe0-b8c5-77c298ead99c",
   "metadata": {},
   "outputs": [],
   "source": [
    "include(\"ENGRI-1120-Example-CodeLib.jl\");"
   ]
  },
  {
   "cell_type": "markdown",
   "id": "0a5a6300-7afc-4945-97f2-0509c82e044f",
   "metadata": {},
   "source": [
    "#### a) Build the stoichiometric matrix $S$"
   ]
  },
  {
   "cell_type": "markdown",
   "id": "f3c98f06-5c40-4936-a77a-64344e457515",
   "metadata": {},
   "source": [
    "<img src=\"figs/Fig-FBA-ToyNetwork.png\" style=\"width:50%\">"
   ]
  },
  {
   "cell_type": "code",
   "execution_count": null,
   "id": "3d63dc73-9c34-4739-b398-8e0faf716e50",
   "metadata": {},
   "outputs": [],
   "source": [
    "# Setup a collection of reaction strings -\n",
    "reaction_array = Array{String,1}()\n",
    "\n",
    "# encode the reactions -\n",
    "# internal reactions -\n",
    "push!(reaction_array,\"v₁,A₁+x,B+y,false\")\n",
    "push!(reaction_array,\"v₂,B,P,false\")\n",
    "push!(reaction_array,\"v₃,A₂+y,C+x,false\")\n",
    "\n",
    "# compute the stoichiometric matrix -\n",
    "# the optional expand arguement = should we split reversible reactions? (default: false)\n",
    "(S, species_name_array, reaction_name_array) = build_stoichiometric_matrix(reaction_array; \n",
    "    expand=false);"
   ]
  },
  {
   "cell_type": "code",
   "execution_count": null,
   "id": "610ec45f-a78c-484c-87d9-12985fd790e3",
   "metadata": {},
   "outputs": [],
   "source": [
    "(ℳ, ℛ) = size(S);"
   ]
  },
  {
   "cell_type": "code",
   "execution_count": null,
   "id": "a8f3f4d5-3ef7-4f5d-ae9a-ae35af165268",
   "metadata": {},
   "outputs": [],
   "source": [
    "[1:ℳ species_name_array]"
   ]
  },
  {
   "cell_type": "code",
   "execution_count": null,
   "id": "0600431f-9443-4120-9b0d-3577121cf362",
   "metadata": {},
   "outputs": [],
   "source": [
    "[1:ℛ reaction_name_array]"
   ]
  },
  {
   "cell_type": "markdown",
   "id": "bb20685a-d6a3-417f-b0df-583dd3d42c68",
   "metadata": {},
   "source": [
    "#### b) Build the reaction bounds array"
   ]
  },
  {
   "cell_type": "code",
   "execution_count": null,
   "id": "d8212e65-c5e1-415d-89f3-1ffbf50ddbfb",
   "metadata": {},
   "outputs": [],
   "source": [
    "# setup the bounds array -\n",
    "flux_bounds_array = zeros(ℛ,2);\n",
    "flux_bounds_array[:,2] .= 100.0; # set a default value for the *upper* bound on the flux\n",
    "\n",
    "# set an upper bound on v₂ -\n",
    "# flux_bounds_array[2,2] = 1.0;\n",
    "\n",
    "# show flux bounds table -\n",
    "flux_bounds_table_data = Array{Any,2}(undef, ℛ,3);\n",
    "for i ∈ 1:ℛ\n",
    "    flux_bounds_table_data[i,1] = reaction_name_array[i];\n",
    "    flux_bounds_table_data[i,2] = flux_bounds_array[i,1];\n",
    "    flux_bounds_table_data[i,3] = flux_bounds_array[i,2];\n",
    "end\n",
    "\n",
    "# flux bounds header -\n",
    "flux_bounds_header = ([\"Reaction\", \"Lᵢ\", \"Uᵢ\"], [\"\", \"mol/time\", \"mol/time\"]);\n",
    "\n",
    "# show bounds table -\n",
    "pretty_table(flux_bounds_table_data; header = flux_bounds_header) "
   ]
  },
  {
   "cell_type": "markdown",
   "id": "ad881518-30ae-4cd3-8c0b-99c4b619dbd0",
   "metadata": {},
   "source": [
    "#### c) Build the species bounds array"
   ]
  },
  {
   "cell_type": "code",
   "execution_count": null,
   "id": "7d22b84b-e06e-4764-8f11-8b1901b47212",
   "metadata": {},
   "outputs": [],
   "source": [
    "# setup the species bounds array -\n",
    "\n",
    "# we know from out theory, that that the lower bound is -1*sum of the inputs \n",
    "ṅ₁ = zeros(ℳ);\n",
    "ṅ₂ = zeros(ℳ);\n",
    "\n",
    "# suppose we supply Ax in stream 1, and Bx in stream 2\n",
    "ṅ₁[1] = 20.0; # supply A₁ -\n",
    "ṅ₂[2] = 5.0;  # supply A₂ -\n",
    "\n",
    "# setup -\n",
    "species_bounds_array = [-1*(ṅ₁ .+ ṅ₂) 1000.0*ones(ℳ)];\n",
    "\n",
    "# show species bounds table -\n",
    "species_bounds_table_data = Array{Any,2}(undef, ℳ, 3);\n",
    "for i ∈ 1:ℳ\n",
    "    species_bounds_table_data[i,1] = species_name_array[i];\n",
    "    species_bounds_table_data[i,2] = species_bounds_array[i,1];\n",
    "    species_bounds_table_data[i,3] = species_bounds_array[i,2];\n",
    "end\n",
    "\n",
    "# flux bounds header -\n",
    "species_bounds_header = ([\"Species i\", \"Lᵢ\", \"Uᵢ\"], [\"\", \"mol/time\", \"mol/time\"]);\n",
    "\n",
    "# show bounds table -\n",
    "pretty_table(species_bounds_table_data; header = species_bounds_header) "
   ]
  },
  {
   "cell_type": "markdown",
   "id": "f2e9a05b-2a4e-46d2-a9c8-0300bbd95e7b",
   "metadata": {},
   "source": [
    "#### d) Set the objective coefficient vector"
   ]
  },
  {
   "cell_type": "code",
   "execution_count": null,
   "id": "2e41dba5-76f6-4350-ac61-56664643f3ff",
   "metadata": {},
   "outputs": [],
   "source": [
    "# setup the objective vector -\n",
    "c = zeros(ℛ);\n",
    "c[2] = -1.0;"
   ]
  },
  {
   "cell_type": "markdown",
   "id": "83623653-d39f-422f-bda3-1f50c077d327",
   "metadata": {},
   "source": [
    "#### e) Estimate the extent through the network"
   ]
  },
  {
   "cell_type": "code",
   "execution_count": null,
   "id": "2b239383-9060-4516-9a52-f0cd30fef59c",
   "metadata": {},
   "outputs": [],
   "source": [
    "results = compute_optimal_extent(S, flux_bounds_array, species_bounds_array, c);\n",
    "\n",
    "# check:\n",
    "println(\"Exit flag: $(results.exit_flag) and status flag: $(results.status_flag)\")"
   ]
  },
  {
   "cell_type": "code",
   "execution_count": null,
   "id": "9d5d1cfb-4273-43ef-89a2-ea89bab6e233",
   "metadata": {},
   "outputs": [],
   "source": [
    "# get the reaction extent vector -\n",
    "ϵ̇ = results.calculated_flux_array\n",
    "\n",
    "# build a table -\n",
    "optimal_extent_table_data = Array{Any,2}(undef, ℛ, 2);\n",
    "for i ∈ 1:ℛ\n",
    "    optimal_extent_table_data[i,1] = reaction_name_array[i]\n",
    "    optimal_extent_table_data[i,2] = ϵ̇[i]\n",
    "end\n",
    "\n",
    "# build header -\n",
    "optimal_table_header = ([\"Reaction\", \"ϵ̇ᵢ\"], [\"\", \"mol/time\"])\n",
    "\n",
    "# show table -\n",
    "pretty_table(optimal_extent_table_data; header=optimal_table_header)"
   ]
  },
  {
   "cell_type": "code",
   "execution_count": null,
   "id": "179c2666-77c3-41c9-8819-26818e06f36d",
   "metadata": {},
   "outputs": [],
   "source": [
    "# compute the output compostion -\n",
    "ṅ₃ = ṅ₂ + ṅ₁ + S*ϵ̇;\n",
    "\n",
    "# compute the change because of the reaction -\n",
    "Δ = S*ϵ̇;\n",
    "\n",
    "\n",
    "# build flow table -\n",
    "flow_table_data = Array{Any,2}(undef, ℳ, 5);\n",
    "for i ∈ 1:ℳ\n",
    "    flow_table_data[i,1] = species_name_array[i]\n",
    "    flow_table_data[i,2] = ṅ₁[i]\n",
    "    flow_table_data[i,3] = ṅ₂[i]\n",
    "    flow_table_data[i,4] = ṅ₃[i]\n",
    "    flow_table_data[i,5] = Δ[i]\n",
    "end\n",
    "\n",
    "# setup header -\n",
    "flow_header_data = ([\"Species\", \"ṅ₁\", \"ṅ₂\",\"ṅ₃\", \"Δ\"], [\"\", \"mol/time\", \"mol/time\", \"mol/time\", \"mol/time\"]) \n",
    "\n",
    "# show -\n",
    "pretty_table(flow_table_data; header = flow_header_data)"
   ]
  },
  {
   "cell_type": "code",
   "execution_count": null,
   "id": "3a4076fd-1c17-45c5-8df5-2d56385f0369",
   "metadata": {},
   "outputs": [],
   "source": []
  }
 ],
 "metadata": {
  "kernelspec": {
   "display_name": "Julia 1.8.0",
   "language": "julia",
   "name": "julia-1.8"
  },
  "language_info": {
   "file_extension": ".jl",
   "mimetype": "application/julia",
   "name": "julia",
   "version": "1.8.2"
  }
 },
 "nbformat": 4,
 "nbformat_minor": 5
}
