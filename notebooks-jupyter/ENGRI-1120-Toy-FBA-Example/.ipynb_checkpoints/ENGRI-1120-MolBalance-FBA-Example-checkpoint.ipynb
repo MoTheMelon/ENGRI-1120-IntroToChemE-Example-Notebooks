{
 "cells": [
  {
   "cell_type": "markdown",
   "id": "88cdb91f-c877-41ea-b6ba-f957db08ae25",
   "metadata": {},
   "source": [
    "## ENGRI 1120 Mole Balance Flux Balance Analysis Example"
   ]
  },
  {
   "cell_type": "markdown",
   "id": "6e022b89-8d8b-41f8-8733-b7b1e13ef2ea",
   "metadata": {},
   "source": [
    "### Introduction"
   ]
  },
  {
   "cell_type": "markdown",
   "id": "a5b0618e-73f2-4a38-9edb-be458887efce",
   "metadata": {},
   "source": [
    "### Example setup"
   ]
  },
  {
   "cell_type": "code",
   "execution_count": 1,
   "id": "ed88b771-179a-4bab-ac55-db6bff482488",
   "metadata": {},
   "outputs": [
    {
     "name": "stderr",
     "output_type": "stream",
     "text": [
      "\u001b[32m\u001b[1m  Activating\u001b[22m\u001b[39m project at `~/Desktop/julia_work/ENGRI-1120-IntroToChemE-Example-Notebooks/notebooks-jupyter/ENGRI-1120-Toy-FBA-Example`\n",
      "\u001b[32m\u001b[1m  No Changes\u001b[22m\u001b[39m to `~/Desktop/julia_work/ENGRI-1120-IntroToChemE-Example-Notebooks/notebooks-jupyter/ENGRI-1120-Toy-FBA-Example/Project.toml`\n",
      "\u001b[32m\u001b[1m  No Changes\u001b[22m\u001b[39m to `~/Desktop/julia_work/ENGRI-1120-IntroToChemE-Example-Notebooks/notebooks-jupyter/ENGRI-1120-Toy-FBA-Example/Manifest.toml`\n"
     ]
    }
   ],
   "source": [
    "import Pkg; Pkg.activate(\".\"); Pkg.resolve(); Pkg.instantiate();"
   ]
  },
  {
   "cell_type": "code",
   "execution_count": 2,
   "id": "8649a279-3b88-4ed8-ac86-1680f799e348",
   "metadata": {},
   "outputs": [],
   "source": [
    "# load reqd packages and set paths -\n",
    "using PrettyTables\n",
    "using GLPK\n",
    "\n",
    "# setup paths -\n",
    "const _ROOT = pwd();"
   ]
  },
  {
   "cell_type": "code",
   "execution_count": 3,
   "id": "24bcb148-5546-4fe0-b8c5-77c298ead99c",
   "metadata": {},
   "outputs": [],
   "source": [
    "include(\"ENGRI-1120-Example-CodeLib.jl\");"
   ]
  },
  {
   "cell_type": "markdown",
   "id": "0a5a6300-7afc-4945-97f2-0509c82e044f",
   "metadata": {},
   "source": [
    "#### a) Build the stoichiometric matrix $S$"
   ]
  },
  {
   "cell_type": "markdown",
   "id": "f3c98f06-5c40-4936-a77a-64344e457515",
   "metadata": {},
   "source": [
    "<img src=\"figs/Fig-expa-ToyNetwork.png\" style=\"width:50%\">"
   ]
  },
  {
   "cell_type": "code",
   "execution_count": 4,
   "id": "3d63dc73-9c34-4739-b398-8e0faf716e50",
   "metadata": {},
   "outputs": [],
   "source": [
    "# Setup a collection of reaction strings -\n",
    "reaction_array = Array{String,1}()\n",
    "\n",
    "# encode the reactions -\n",
    "# internal reactions -\n",
    "push!(reaction_array,\"v₁,A,B,false\")\n",
    "push!(reaction_array,\"v₂,B,C,true\")\n",
    "push!(reaction_array,\"v₃,C,D,true\")\n",
    "push!(reaction_array,\"v₄,C,E,false\")\n",
    "\n",
    "# exchange reactions -\n",
    "push!(reaction_array,\"b₁,Ax,A,true\")\n",
    "push!(reaction_array,\"b₂,Bx,B,true\")\n",
    "push!(reaction_array,\"b₃,D,Dx,true\")\n",
    "push!(reaction_array,\"b₄,E,Ex,true\")\n",
    "\n",
    "# compute the stoichiometric matrix -\n",
    "# the optional expand arguement = should we split reversible reactions? (default: false)\n",
    "(S, species_array, reaction_name_array) = build_stoichiometric_matrix(reaction_array; \n",
    "    expand=false);"
   ]
  },
  {
   "cell_type": "code",
   "execution_count": 5,
   "id": "610ec45f-a78c-484c-87d9-12985fd790e3",
   "metadata": {},
   "outputs": [],
   "source": [
    "(ℳ, ℛ) = size(S);"
   ]
  },
  {
   "cell_type": "code",
   "execution_count": 6,
   "id": "a8f3f4d5-3ef7-4f5d-ae9a-ae35af165268",
   "metadata": {},
   "outputs": [
    {
     "data": {
      "text/plain": [
       "9×2 Matrix{Any}:\n",
       " 1  \"A\"\n",
       " 2  \"Ax\"\n",
       " 3  \"B\"\n",
       " 4  \"Bx\"\n",
       " 5  \"C\"\n",
       " 6  \"D\"\n",
       " 7  \"Dx\"\n",
       " 8  \"E\"\n",
       " 9  \"Ex\""
      ]
     },
     "execution_count": 6,
     "metadata": {},
     "output_type": "execute_result"
    }
   ],
   "source": [
    "[1:ℳ species_array]"
   ]
  },
  {
   "cell_type": "code",
   "execution_count": 7,
   "id": "0600431f-9443-4120-9b0d-3577121cf362",
   "metadata": {},
   "outputs": [
    {
     "data": {
      "text/plain": [
       "8×2 Matrix{Any}:\n",
       " 1  \"v₁\"\n",
       " 2  \"v₂\"\n",
       " 3  \"v₃\"\n",
       " 4  \"v₄\"\n",
       " 5  \"b₁\"\n",
       " 6  \"b₂\"\n",
       " 7  \"b₃\"\n",
       " 8  \"b₄\""
      ]
     },
     "execution_count": 7,
     "metadata": {},
     "output_type": "execute_result"
    }
   ],
   "source": [
    "[1:ℛ reaction_name_array]"
   ]
  },
  {
   "cell_type": "markdown",
   "id": "bb20685a-d6a3-417f-b0df-583dd3d42c68",
   "metadata": {},
   "source": [
    "#### b) Build the reaction bounds array"
   ]
  },
  {
   "cell_type": "code",
   "execution_count": 8,
   "id": "d8212e65-c5e1-415d-89f3-1ffbf50ddbfb",
   "metadata": {},
   "outputs": [],
   "source": [
    "# setup the bounds array -\n",
    "flux_bounds_array = zeros(ℛ,2);\n",
    "flux_bounds_array[:,2] .= 100.0; # set a default value for the *upper* bound on the flux\n",
    "\n",
    "# set an upper bound on v₂ -\n",
    "flux_bounds_array[2,2] = 1.0;"
   ]
  },
  {
   "cell_type": "markdown",
   "id": "ad881518-30ae-4cd3-8c0b-99c4b619dbd0",
   "metadata": {},
   "source": [
    "#### c) Build the species bounds array"
   ]
  },
  {
   "cell_type": "code",
   "execution_count": 9,
   "id": "7d22b84b-e06e-4764-8f11-8b1901b47212",
   "metadata": {},
   "outputs": [],
   "source": [
    "# setup the species bounds array -\n",
    "\n",
    "# we know from out theory, that that the lower bound is -1*sum of the inputs \n",
    "ṅ₁ = zeros(ℳ);\n",
    "ṅ₂ = zeros(ℳ);\n",
    "\n",
    "# suppose we supply Ax in stream 1, and Bx in stream 2\n",
    "ṅ₁[2] = 20.0; # supply Ax -\n",
    "ṅ₂[4] = 5.0;  # supply Bx -\n",
    "\n",
    "# setup -\n",
    "species_bounds_array = [-1*(ṅ₁ .+ ṅ₂) 1000.0*ones(ℳ)];"
   ]
  },
  {
   "cell_type": "markdown",
   "id": "f2e9a05b-2a4e-46d2-a9c8-0300bbd95e7b",
   "metadata": {},
   "source": [
    "#### d) Set the objective coefficient vector"
   ]
  },
  {
   "cell_type": "code",
   "execution_count": 10,
   "id": "2e41dba5-76f6-4350-ac61-56664643f3ff",
   "metadata": {},
   "outputs": [],
   "source": [
    "# setup the objective vector -\n",
    "c = zeros(ℛ);\n",
    "c[7] = -1.0;"
   ]
  },
  {
   "cell_type": "markdown",
   "id": "83623653-d39f-422f-bda3-1f50c077d327",
   "metadata": {},
   "source": [
    "#### e) Estimate the extent through the network"
   ]
  },
  {
   "cell_type": "code",
   "execution_count": 11,
   "id": "2b239383-9060-4516-9a52-f0cd30fef59c",
   "metadata": {},
   "outputs": [],
   "source": [
    "results = compute_optimal_extent(S, flux_bounds_array, species_bounds_array, c);"
   ]
  },
  {
   "cell_type": "code",
   "execution_count": 12,
   "id": "d03c9e13-921d-4782-b81e-db98d96b389d",
   "metadata": {},
   "outputs": [
    {
     "name": "stdout",
     "output_type": "stream",
     "text": [
      "Exit flag: 0 and status flag: 5\n"
     ]
    }
   ],
   "source": [
    "# check:\n",
    "println(\"Exit flag: $(results.exit_flag) and status flag: $(results.status_flag)\")"
   ]
  },
  {
   "cell_type": "code",
   "execution_count": 13,
   "id": "9d5d1cfb-4273-43ef-89a2-ea89bab6e233",
   "metadata": {},
   "outputs": [
    {
     "name": "stdout",
     "output_type": "stream",
     "text": [
      "┌──────────┬──────────┐\n",
      "│\u001b[1m Reaction \u001b[0m│\u001b[1m       ϵ̇ᵢ \u001b[0m│\n",
      "│\u001b[90m          \u001b[0m│\u001b[90m mol/time \u001b[0m│\n",
      "├──────────┼──────────┤\n",
      "│       v₁ │      0.0 │\n",
      "│       v₂ │      1.0 │\n",
      "│       v₃ │      1.0 │\n",
      "│       v₄ │      0.0 │\n",
      "│       b₁ │      0.0 │\n",
      "│       b₂ │      1.0 │\n",
      "│       b₃ │      1.0 │\n",
      "│       b₄ │      0.0 │\n",
      "└──────────┴──────────┘\n"
     ]
    }
   ],
   "source": [
    "# get the reaction extent vector -\n",
    "ϵ̇ = results.calculated_flux_array\n",
    "\n",
    "# build a table -\n",
    "optimal_extent_table_data = Array{Any,2}(undef, ℛ, 2);\n",
    "for i ∈ 1:ℛ\n",
    "    optimal_extent_table_data[i,1] = reaction_name_array[i]\n",
    "    optimal_extent_table_data[i,2] = ϵ̇[i]\n",
    "end\n",
    "\n",
    "# build header -\n",
    "optimal_table_header = ([\"Reaction\", \"ϵ̇ᵢ\"], [\"\", \"mol/time\"])\n",
    "\n",
    "# show table -\n",
    "pretty_table(optimal_extent_table_data; header=optimal_table_header)"
   ]
  },
  {
   "cell_type": "code",
   "execution_count": 14,
   "id": "179c2666-77c3-41c9-8819-26818e06f36d",
   "metadata": {},
   "outputs": [
    {
     "name": "stdout",
     "output_type": "stream",
     "text": [
      "┌─────────┬───────┬───────┬───────┬───────┐\n",
      "│\u001b[1m Species \u001b[0m│\u001b[1m    ṅ₁ \u001b[0m│\u001b[1m    ṅ₂ \u001b[0m│\u001b[1m    ṅ₃ \u001b[0m│\u001b[1m     Δ \u001b[0m│\n",
      "│\u001b[90m         \u001b[0m│\u001b[90m mol/t \u001b[0m│\u001b[90m mol/t \u001b[0m│\u001b[90m mol/t \u001b[0m│\u001b[90m mol/t \u001b[0m│\n",
      "├─────────┼───────┼───────┼───────┼───────┤\n",
      "│       A │   0.0 │   0.0 │   0.0 │   0.0 │\n",
      "│      Ax │  20.0 │   0.0 │  20.0 │   0.0 │\n",
      "│       B │   0.0 │   0.0 │   0.0 │   0.0 │\n",
      "│      Bx │   0.0 │   5.0 │   4.0 │  -1.0 │\n",
      "│       C │   0.0 │   0.0 │   0.0 │   0.0 │\n",
      "│       D │   0.0 │   0.0 │   0.0 │   0.0 │\n",
      "│      Dx │   0.0 │   0.0 │   1.0 │   1.0 │\n",
      "│       E │   0.0 │   0.0 │   0.0 │   0.0 │\n",
      "│      Ex │   0.0 │   0.0 │   0.0 │   0.0 │\n",
      "└─────────┴───────┴───────┴───────┴───────┘\n"
     ]
    }
   ],
   "source": [
    "# compute the output compostion -\n",
    "ṅ₃ = ṅ₂ + ṅ₁ + S*ϵ̇;\n",
    "\n",
    "# compute the change because of the reaction -\n",
    "Δ = S*ϵ̇;\n",
    "\n",
    "\n",
    "# build flow table -\n",
    "flow_table_data = Array{Any,2}(undef, ℳ, 5);\n",
    "for i ∈ 1:ℳ\n",
    "    flow_table_data[i,1] = species_array[i]\n",
    "    flow_table_data[i,2] = ṅ₁[i]\n",
    "    flow_table_data[i,3] = ṅ₂[i]\n",
    "    flow_table_data[i,4] = ṅ₃[i]\n",
    "    flow_table_data[i,5] = Δ[i]\n",
    "end\n",
    "\n",
    "# setup header -\n",
    "flow_header_data = ([\"Species\", \"ṅ₁\", \"ṅ₂\",\"ṅ₃\", \"Δ\"], [\"\", \"mol/time\", \"mol/time\", \"mol/time\", \"mol/time\"]) \n",
    "\n",
    "# show -\n",
    "pretty_table(flow_table_data; header = flow_header_data)"
   ]
  },
  {
   "cell_type": "code",
   "execution_count": null,
   "id": "3a4076fd-1c17-45c5-8df5-2d56385f0369",
   "metadata": {},
   "outputs": [],
   "source": []
  }
 ],
 "metadata": {
  "kernelspec": {
   "display_name": "Julia 1.8.0",
   "language": "julia",
   "name": "julia-1.8"
  },
  "language_info": {
   "file_extension": ".jl",
   "mimetype": "application/julia",
   "name": "julia",
   "version": "1.8.2"
  }
 },
 "nbformat": 4,
 "nbformat_minor": 5
}
